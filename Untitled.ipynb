{
 "cells": [
  {
   "cell_type": "code",
   "execution_count": null,
   "id": "3d7d5554-db54-4412-bf9c-2e16bedd65ce",
   "metadata": {},
   "outputs": [],
   "source": [
    "1.1. Write a Python script to sort (ascending and descending) a dictionary by value."
   ]
  },
  {
   "cell_type": "code",
   "execution_count": 12,
   "id": "6e7aaeb8-343d-4bc5-9155-f1077a30aa9c",
   "metadata": {},
   "outputs": [
    {
     "name": "stdout",
     "output_type": "stream",
     "text": [
      "[(0, 0), (2, 1), (1, 2), (4, 3), (3, 4)]\n",
      "{0: 0, 2: 1, 1: 2, 4: 3, 3: 4}\n"
     ]
    }
   ],
   "source": [
    "a={1: 2, 3: 4, 4: 3, 2: 1, 0: 0}\n",
    "b=list(a.values())\n",
    "b.sort()\n",
    "b\n",
    "z=[]\n",
    "for i in b:\n",
    "    for j,k in a.items():\n",
    "        if i==k:\n",
    "            z.append((j,k))\n",
    "print(z)\n",
    "print(dict(z))\n",
    "            \n"
   ]
  },
  {
   "cell_type": "code",
   "execution_count": 13,
   "id": "eaeaf81c-efa3-4a87-8197-1f170ba42eb8",
   "metadata": {},
   "outputs": [
    {
     "name": "stdout",
     "output_type": "stream",
     "text": [
      "[(3, 4), (4, 3), (1, 2), (2, 1), (0, 0)]\n",
      "{3: 4, 4: 3, 1: 2, 2: 1, 0: 0}\n"
     ]
    }
   ],
   "source": [
    "a={1: 2, 3: 4, 4: 3, 2: 1, 0: 0}\n",
    "b=list(a.values())\n",
    "b.sort(reverse=True)\n",
    "b\n",
    "z=[]\n",
    "for i in b:\n",
    "    for j,k in a.items():\n",
    "        if i==k:\n",
    "            z.append((j,k))\n",
    "print(z)\n",
    "print(dict(z))"
   ]
  },
  {
   "cell_type": "code",
   "execution_count": null,
   "id": "cbdfa7d6-6ea7-405f-a62a-c1acede6b7a3",
   "metadata": {},
   "outputs": [],
   "source": [
    "2. Write a Python script to add a key to a dictionary.\n",
    "\n",
    "Sample Dictionary : {0: 10, 1: 20}\n",
    "Expected Result : {0: 10, 1: 20, 2: 30}"
   ]
  },
  {
   "cell_type": "code",
   "execution_count": 14,
   "id": "1a6d43f7-fba5-4bce-9926-7d7c91b887f9",
   "metadata": {},
   "outputs": [
    {
     "name": "stdin",
     "output_type": "stream",
     "text": [
      " 2\n",
      " 30\n"
     ]
    },
    {
     "data": {
      "text/plain": [
       "{0: 10, 1: 20, 2: 30}"
      ]
     },
     "execution_count": 14,
     "metadata": {},
     "output_type": "execute_result"
    }
   ],
   "source": [
    "a={0: 10, 1: 20}\n",
    "b=int(input())\n",
    "c=int(input())\n",
    "a[b]=c\n",
    "a"
   ]
  },
  {
   "cell_type": "code",
   "execution_count": null,
   "id": "83b8268c-a9b3-47d6-807b-f0735afa1763",
   "metadata": {},
   "outputs": [],
   "source": [
    "3. Write a Python script to concatenate the following dictionaries to create a new one.\n",
    "\n",
    "Sample Dictionary :\n",
    "dic1={1:10, 2:20}\n",
    "dic2={3:30, 4:40}\n",
    "dic3={5:50,6:60}\n",
    "Expected Result : {1: 10, 2: 20, 3: 30, 4: 40, 5: 50, 6: 60}"
   ]
  },
  {
   "cell_type": "code",
   "execution_count": 15,
   "id": "986da32a-3b6d-42fd-8098-14c562ced62b",
   "metadata": {},
   "outputs": [
    {
     "data": {
      "text/plain": [
       "{1: 10, 2: 20, 3: 30, 4: 40, 5: 50, 6: 60}"
      ]
     },
     "execution_count": 15,
     "metadata": {},
     "output_type": "execute_result"
    }
   ],
   "source": [
    "dic1={1:10, 2:20}\n",
    "dic2={3:30, 4:40}\n",
    "dic3={5:50,6:60}\n",
    "for i,j in dic2.items():\n",
    "    dic1[i]=j\n",
    "for i,j in dic3.items():\n",
    "    dic1[i]=j\n",
    "dic1"
   ]
  },
  {
   "cell_type": "code",
   "execution_count": null,
   "id": "61034272-a4d7-4f2c-a9df-cd6b8ab44eb1",
   "metadata": {},
   "outputs": [],
   "source": [
    "4. Write a Python script to check whether a given key already exists in a dictionary."
   ]
  },
  {
   "cell_type": "code",
   "execution_count": 17,
   "id": "8495a366-021f-4aae-aabc-5006227efc79",
   "metadata": {},
   "outputs": [
    {
     "name": "stdin",
     "output_type": "stream",
     "text": [
      " Shetty\n"
     ]
    },
    {
     "name": "stdout",
     "output_type": "stream",
     "text": [
      "True\n"
     ]
    }
   ],
   "source": [
    "students = {\n",
    "    'Theodore': 19,\n",
    "    'Roxanne': 22,\n",
    "    'Mathew': 21,\n",
    "    'Betty': 20\n",
    "}\n",
    "new_student=input()\n",
    "flag=0\n",
    "for i in students:\n",
    "    if i==new_student:\n",
    "        flag=1\n",
    "        break\n",
    "if flag:\n",
    "    print(\"False\")\n",
    "else:\n",
    "    print(\"True\")"
   ]
  },
  {
   "cell_type": "code",
   "execution_count": null,
   "id": "48ac1ba0-3bdb-47a6-a23d-d0886f124930",
   "metadata": {},
   "outputs": [],
   "source": [
    "5. Write a Python program to iterate over dictionaries using for loops."
   ]
  },
  {
   "cell_type": "code",
   "execution_count": 18,
   "id": "b58d08d3-c3a4-4016-88fd-9fb996cd4a44",
   "metadata": {},
   "outputs": [
    {
     "name": "stdout",
     "output_type": "stream",
     "text": [
      "x--->10\n",
      "y--->20\n",
      "z--->30\n"
     ]
    }
   ],
   "source": [
    "d = {'x': 10, 'y': 20, 'z': 30} \n",
    "for i,j in d.items():\n",
    "    print(str(i)+\"--->\"+str(j))"
   ]
  },
  {
   "cell_type": "code",
   "execution_count": null,
   "id": "46376f65-f9cb-4501-b9e3-ccb353f925a9",
   "metadata": {},
   "outputs": [],
   "source": [
    "6. Write a Python script to generate and print a dictionary that contains a number (between 1 and n) in the form (x, x*x).\n",
    "Sample Dictionary ( n = 5) :\n",
    "Expected Output : {1: 1, 2: 4, 3: 9, 4: 16, 5: 25}"
   ]
  },
  {
   "cell_type": "code",
   "execution_count": 19,
   "id": "58fa2feb-6d5e-43f8-bcf9-a6e131793879",
   "metadata": {},
   "outputs": [
    {
     "name": "stdin",
     "output_type": "stream",
     "text": [
      " 5\n"
     ]
    },
    {
     "data": {
      "text/plain": [
       "{1: 1, 2: 4, 3: 9, 4: 16, 5: 25}"
      ]
     },
     "execution_count": 19,
     "metadata": {},
     "output_type": "execute_result"
    }
   ],
   "source": [
    "n=int(input())\n",
    "d={}\n",
    "for i in range(1,n+1):\n",
    "    d[i]=i*i\n",
    "d"
   ]
  },
  {
   "cell_type": "code",
   "execution_count": null,
   "id": "3a4faec9-c784-453b-81fd-716cc2ed6c5e",
   "metadata": {},
   "outputs": [],
   "source": [
    "7. Write a Python script to print a dictionary where the keys are numbers between 1 and 15 (both included) and the values are the square of the keys.\n",
    "Sample Dictionary\n",
    "{1: 1, 2: 4, 3: 9, 4: 16, 5: 25, 6: 36, 7: 49, 8: 64, 9: 81, 10: 100, 11: 121, 12: 144, 13: 169, 14: 196, 15: 225}"
   ]
  },
  {
   "cell_type": "code",
   "execution_count": 20,
   "id": "455478a7-35cf-4826-a1ed-0f558379468b",
   "metadata": {},
   "outputs": [
    {
     "name": "stdin",
     "output_type": "stream",
     "text": [
      " 15\n"
     ]
    },
    {
     "data": {
      "text/plain": [
       "{1: 1,\n",
       " 2: 4,\n",
       " 3: 9,\n",
       " 4: 16,\n",
       " 5: 25,\n",
       " 6: 36,\n",
       " 7: 49,\n",
       " 8: 64,\n",
       " 9: 81,\n",
       " 10: 100,\n",
       " 11: 121,\n",
       " 12: 144,\n",
       " 13: 169,\n",
       " 14: 196,\n",
       " 15: 225}"
      ]
     },
     "execution_count": 20,
     "metadata": {},
     "output_type": "execute_result"
    }
   ],
   "source": [
    "n=int(input())\n",
    "d={}\n",
    "for i in range(1,n+1):\n",
    "    d[i]=i*i\n",
    "d"
   ]
  },
  {
   "cell_type": "code",
   "execution_count": null,
   "id": "d7767883-d278-4b44-8c9a-d4da2ad7c541",
   "metadata": {},
   "outputs": [],
   "source": [
    "8. Write a Python script to merge two Python dictionaries."
   ]
  },
  {
   "cell_type": "code",
   "execution_count": 21,
   "id": "80ed4251-ebd8-4bc6-9fdd-3e010c1aa045",
   "metadata": {},
   "outputs": [
    {
     "data": {
      "text/plain": [
       "{'a': 100, 'b': 200, 'x': 300, 'y': 200}"
      ]
     },
     "execution_count": 21,
     "metadata": {},
     "output_type": "execute_result"
    }
   ],
   "source": [
    "d1 = {'a': 100, 'b': 200}\n",
    "d2 = {'x': 300, 'y': 200}\n",
    "for i,j in d2.items():\n",
    "    d1[i]=j\n",
    "d1"
   ]
  },
  {
   "cell_type": "code",
   "execution_count": null,
   "id": "47b6fa96-c8eb-4ce2-a15e-f3256de3ebc7",
   "metadata": {},
   "outputs": [],
   "source": [
    "10. Write a Python program to sum all the items in a dictionary."
   ]
  },
  {
   "cell_type": "code",
   "execution_count": 22,
   "id": "20022cf5-c5d2-424e-9986-2bcde1447f2e",
   "metadata": {},
   "outputs": [
    {
     "data": {
      "text/plain": [
       "293"
      ]
     },
     "execution_count": 22,
     "metadata": {},
     "output_type": "execute_result"
    }
   ],
   "source": [
    "my_dict = {'data1': 100, 'data2': -54, 'data3': 247}\n",
    "summ=0\n",
    "for i in my_dict.values():\n",
    "    summ=summ+i\n",
    "summ"
   ]
  },
  {
   "cell_type": "code",
   "execution_count": null,
   "id": "bfe6ab75-4fd3-4183-8de7-620f3c2277bb",
   "metadata": {},
   "outputs": [],
   "source": [
    "11. Write a Python program to multiply all the items in a dictionary."
   ]
  },
  {
   "cell_type": "code",
   "execution_count": 23,
   "id": "1b585db2-149e-47e9-b822-4f211a735aae",
   "metadata": {},
   "outputs": [
    {
     "data": {
      "text/plain": [
       "-1333800"
      ]
     },
     "execution_count": 23,
     "metadata": {},
     "output_type": "execute_result"
    }
   ],
   "source": [
    "my_dict = {'data1': 100, 'data2': -54, 'data3': 247}\n",
    "summ=1\n",
    "for i in my_dict.values():\n",
    "    summ=summ*i\n",
    "summ"
   ]
  },
  {
   "cell_type": "code",
   "execution_count": null,
   "id": "e393111b-b36e-4721-8380-ad5b7c5a57c8",
   "metadata": {},
   "outputs": [],
   "source": [
    "12. Write a Python program to remove a key from a dictionary.\n"
   ]
  },
  {
   "cell_type": "code",
   "execution_count": 26,
   "id": "12f0ea5d-fc59-4e5f-ae02-cdf5c19dbd75",
   "metadata": {},
   "outputs": [
    {
     "data": {
      "text/plain": [
       "{'b': 2, 'c': 3, 'd': 4}"
      ]
     },
     "execution_count": 26,
     "metadata": {},
     "output_type": "execute_result"
    }
   ],
   "source": [
    "myDict = {'a': 1, 'b': 2, 'c': 3, 'd': 4}\n",
    "del myDict['a']\n",
    "myDict"
   ]
  },
  {
   "cell_type": "code",
   "execution_count": null,
   "id": "1f92732e-ebb9-460b-8b29-9bc2d4ec331c",
   "metadata": {},
   "outputs": [],
   "source": []
  },
  {
   "cell_type": "code",
   "execution_count": 27,
   "id": "cf7e3a62-d13d-4939-a723-2dcd6c0c1c75",
   "metadata": {},
   "outputs": [
    {
     "data": {
      "text/plain": [
       "{'red': '#FF0000', 'green': '#008000', 'blue': '#0000FF'}"
      ]
     },
     "execution_count": 27,
     "metadata": {},
     "output_type": "execute_result"
    }
   ],
   "source": [
    "keys = ['red', 'green', 'blue']\n",
    "values = ['#FF0000', '#008000', '#0000FF']\n",
    "d={}\n",
    "for i in range(len(keys)):\n",
    "    d[keys[i]]=values[i]\n",
    "d"
   ]
  },
  {
   "cell_type": "code",
   "execution_count": null,
   "id": "c3e01e53-174d-4dbe-8547-87ed646acd03",
   "metadata": {},
   "outputs": [],
   "source": []
  },
  {
   "cell_type": "code",
   "execution_count": 29,
   "id": "2b06cc97-0c57-4e40-97b6-b7587f71902e",
   "metadata": {},
   "outputs": [
    {
     "name": "stdout",
     "output_type": "stream",
     "text": [
      "black #000000\n",
      "green #008000\n",
      "red #FF0000\n",
      "white #FFFFFF\n"
     ]
    }
   ],
   "source": [
    "color_dict = {\n",
    "    'red': '#FF0000',\n",
    "    'green': '#008000',\n",
    "    'black': '#000000',\n",
    "    'white': '#FFFFFF'\n",
    "}\n",
    "x=list(color_dict.keys())\n",
    "x.sort()\n",
    "for i in x:\n",
    "    print(i,color_dict[i])"
   ]
  },
  {
   "cell_type": "code",
   "execution_count": null,
   "id": "f5b9759e-5afa-4cc2-9a98-4cd383077067",
   "metadata": {},
   "outputs": [],
   "source": [
    "15. Write a Python program to get the maximum and minimum values of a dictionary."
   ]
  },
  {
   "cell_type": "code",
   "execution_count": 40,
   "id": "cc9017ea-8cb9-4e53-b3d9-e4b06d99feb6",
   "metadata": {},
   "outputs": [
    {
     "name": "stdout",
     "output_type": "stream",
     "text": [
      "500\n"
     ]
    },
    {
     "data": {
      "text/plain": [
       "5874"
      ]
     },
     "execution_count": 40,
     "metadata": {},
     "output_type": "execute_result"
    }
   ],
   "source": [
    "my_dict = {'x': 500, 'y': 5874, 'z': 560}\n",
    "k=[]\n",
    "for i in my_dict.values():\n",
    "    k.append(i)\n",
    "k.sort()\n",
    "print(k[0])\n",
    "k[-1]"
   ]
  },
  {
   "cell_type": "code",
   "execution_count": null,
   "id": "b52580b8-6257-4325-bce0-3f076f6265e2",
   "metadata": {},
   "outputs": [],
   "source": [
    "16. Write a Python program to get a dictionary from an object's fields."
   ]
  },
  {
   "cell_type": "code",
   "execution_count": 57,
   "id": "8dc106e9-99f0-4ab5-9c3b-83e3675b5423",
   "metadata": {},
   "outputs": [
    {
     "name": "stdout",
     "output_type": "stream",
     "text": [
      "{'x': 'red', 'y': 'pink', 'z': 'orange'}\n"
     ]
    }
   ],
   "source": [
    "class dict_1:\n",
    "    def __init__(self):\n",
    "        self.x=\"red\"\n",
    "        self.y=\"pink\"\n",
    "        self.z=\"orange\"\n",
    "a=dict_1()\n",
    "print(a.__dict__)\n"
   ]
  },
  {
   "cell_type": "code",
   "execution_count": null,
   "id": "912c6b0e-a200-4741-9828-bcffc7d1ce8f",
   "metadata": {},
   "outputs": [],
   "source": [
    "7. Write a Python program to remove duplicates from the dictionary."
   ]
  },
  {
   "cell_type": "code",
   "execution_count": 61,
   "id": "0664de21-912a-493a-9130-37b15316a3a7",
   "metadata": {},
   "outputs": [
    {
     "data": {
      "text/plain": [
       "{'id1': {'name': ['Sara'],\n",
       "  'class': ['V'],\n",
       "  'subject_integration': ['english, math, science']},\n",
       " 'id2': {'name': ['David'],\n",
       "  'class': ['V'],\n",
       "  'subject_integration': ['english, math, science']},\n",
       " 'id4': {'name': ['Surya'],\n",
       "  'class': ['V'],\n",
       "  'subject_integration': ['english, math, science']}}"
      ]
     },
     "execution_count": 61,
     "metadata": {},
     "output_type": "execute_result"
    }
   ],
   "source": [
    "student_data = {\n",
    "    'id1': {\n",
    "        'name': ['Sara'],\n",
    "        'class': ['V'],\n",
    "        'subject_integration': ['english, math, science']\n",
    "    },\n",
    "    'id2': {\n",
    "        'name': ['David'],\n",
    "        'class': ['V'],\n",
    "        'subject_integration': ['english, math, science']\n",
    "    },\n",
    "    'id3': {\n",
    "        'name': ['Sara'],\n",
    "        'class': ['V'],\n",
    "        'subject_integration': ['english, math, science']\n",
    "    },\n",
    "    'id4': {\n",
    "        'name': ['Surya'],\n",
    "        'class': ['V'],\n",
    "        'subject_integration': ['english, math, science']\n",
    "    }\n",
    "}\n",
    "\n",
    "s={}\n",
    "for i,j in student_data.items():\n",
    "    if j not in s.values():\n",
    "        s[i]=j\n",
    "s"
   ]
  },
  {
   "cell_type": "code",
   "execution_count": null,
   "id": "694c1f81-99d9-490c-9f84-68c318f4fc82",
   "metadata": {},
   "outputs": [],
   "source": [
    "18. Write a Python program to check if a dictionary is empty or not."
   ]
  },
  {
   "cell_type": "code",
   "execution_count": 64,
   "id": "0c378fef-d96d-4512-958b-d3d7450cf7c1",
   "metadata": {},
   "outputs": [
    {
     "data": {
      "text/plain": [
       "True"
      ]
     },
     "execution_count": 64,
     "metadata": {},
     "output_type": "execute_result"
    }
   ],
   "source": [
    "a={}\n",
    "c=len(a)==0\n",
    "c\n"
   ]
  },
  {
   "cell_type": "code",
   "execution_count": null,
   "id": "c68d575a-ec68-453e-a311-d64541060d99",
   "metadata": {},
   "outputs": [],
   "source": [
    "19. Write a Python program to combine two dictionary by adding values for common keys.\n",
    "d1= {'a': 100, 'b': 200, 'c':300}\n",
    "d2 = {'a': 300, 'b': 200, 'd':400}"
   ]
  },
  {
   "cell_type": "code",
   "execution_count": 66,
   "id": "2529eb29-d484-4ccb-9a64-68bda3415d4b",
   "metadata": {},
   "outputs": [
    {
     "data": {
      "text/plain": [
       "{'a': 400, 'b': 400, 'c': 300, 'd': 400}"
      ]
     },
     "execution_count": 66,
     "metadata": {},
     "output_type": "execute_result"
    }
   ],
   "source": [
    "d1= {'a': 100, 'b': 200, 'c':300}\n",
    "d2 = {'a': 300, 'b': 200, 'd':400}\n",
    "for i,j in d2.items():\n",
    "    if i in d1.keys():\n",
    "        d1[i]=d1[i]+d2[i]\n",
    "    else:\n",
    "        d1[i]=j\n",
    "d1"
   ]
  },
  {
   "cell_type": "code",
   "execution_count": null,
   "id": "9048e8c4-18cd-45de-bc45-aa22e71b7ecb",
   "metadata": {},
   "outputs": [],
   "source": [
    "20. Write a Python program to print all distinct values in a dictionary.\n",
    "Sample Data : [{\"V\":\"S001\"}, {\"V\": \"S002\"}, {\"VI\": \"S001\"}, {\"VI\": \"S005\"}, {\"VII\":\"S005\"}, {\"V\":\"S009\"},{\"VIII\":\"S007\"}]\n",
    "Expected Output : Unique Values: {'S005', 'S002', 'S007', 'S001', 'S009'}"
   ]
  },
  {
   "cell_type": "code",
   "execution_count": 69,
   "id": "c862e12f-fa63-4317-ba0e-c096a5285ef1",
   "metadata": {},
   "outputs": [
    {
     "data": {
      "text/plain": [
       "{'S001', 'S002', 'S005', 'S007', 'S009'}"
      ]
     },
     "execution_count": 69,
     "metadata": {},
     "output_type": "execute_result"
    }
   ],
   "source": [
    "a=[{\"V\":\"S001\"}, {\"V\": \"S002\"}, {\"VI\": \"S001\"}, {\"VI\": \"S005\"}, {\"VII\":\"S005\"}, {\"V\":\"S009\"},{\"VIII\":\"S007\"}]\n",
    "k=[]\n",
    "for i in a:\n",
    "    for j in i.values():\n",
    "        k.append(j)\n",
    "set(k)"
   ]
  },
  {
   "cell_type": "code",
   "execution_count": null,
   "id": "775daeef-df4e-413a-9a2c-96ee806624ca",
   "metadata": {},
   "outputs": [],
   "source": [
    "21. Write a Python program to create and display all combinations of letters, selecting each letter from a different key in a dictionary.\n",
    "Sample data : {'1':['a','b'], '2':['c','d']}"
   ]
  },
  {
   "cell_type": "code",
   "execution_count": 76,
   "id": "2a7ba7bd-6d4a-4604-a40b-196d27dfd912",
   "metadata": {},
   "outputs": [
    {
     "data": {
      "text/plain": [
       "[['a', 'b'], ['c', 'd']]"
      ]
     },
     "execution_count": 76,
     "metadata": {},
     "output_type": "execute_result"
    }
   ],
   "source": [
    "a={'1':['a','b'], '2':['c','d']}\n",
    "b=[]\n",
    "\n",
    "for i in a.values():\n",
    "        b.append(i)\n",
    "for i in range(len(b)):\n",
    "    for j in range(i+1,len(b)):\n",
    "        print(b[i][j])\n"
   ]
  },
  {
   "cell_type": "code",
   "execution_count": null,
   "id": "cdfd4088-e5c0-4391-9501-5e9174ac2818",
   "metadata": {},
   "outputs": [],
   "source": []
  },
  {
   "cell_type": "code",
   "execution_count": null,
   "id": "baeea95f-d292-42fe-9e13-cb48914e2c42",
   "metadata": {},
   "outputs": [],
   "source": [
    "22. Write a Python program to find the highest 3 values of corresponding keys in a dictionary."
   ]
  },
  {
   "cell_type": "code",
   "execution_count": 90,
   "id": "7eb5a13e-5946-41c8-9665-35b0949ec843",
   "metadata": {},
   "outputs": [
    {
     "name": "stdout",
     "output_type": "stream",
     "text": [
      "[560, 5874, 5874]\n"
     ]
    },
    {
     "data": {
      "text/plain": [
       "['c', 'b', 'e']"
      ]
     },
     "execution_count": 90,
     "metadata": {},
     "output_type": "execute_result"
    }
   ],
   "source": [
    "my_dict = {'a': 500, 'b': 5874, 'c': 560, 'd': 400, 'e': 5874, 'f': 20}\n",
    "k=list(my_dict.values())\n",
    "l=sorted(k)\n",
    "m=l[len(l)-3:]\n",
    "print(m)\n",
    "k=[]\n",
    "for x in m:\n",
    "    for i,j in my_dict.items():\n",
    "        if j==x and (i not in k):\n",
    "            k.append(i)\n",
    "            break\n",
    "k"
   ]
  },
  {
   "cell_type": "code",
   "execution_count": null,
   "id": "5a90bb2d-821b-4565-ba78-8624e8c49188",
   "metadata": {},
   "outputs": [],
   "source": [
    "23. Write a Python program to combine values in a list of dictionaries.\n",
    "Sample data: [{'item': 'item1', 'amount': 400}, {'item': 'item2', 'amount': 300}, {'item': 'item1', 'amount': 750}]\n",
    "Expected Output: Counter({'item1': 1150, 'item2': 300})"
   ]
  },
  {
   "cell_type": "code",
   "execution_count": 119,
   "id": "0214c952-c206-49d5-9b16-b3b4ae2305e3",
   "metadata": {},
   "outputs": [
    {
     "data": {
      "text/plain": [
       "{'item1': 'item1', 400: 400, 'item2': 'item2', 300: 300, 750: 750}"
      ]
     },
     "execution_count": 119,
     "metadata": {},
     "output_type": "execute_result"
    }
   ],
   "source": [
    "a=[{'item': 'item1', 'amount': 400}, {'item': 'item2', 'amount': 300}, {'item': 'item1', 'amount': 750}]\n"
   ]
  },
  {
   "cell_type": "code",
   "execution_count": null,
   "id": "6e34c922-2be3-4855-bde2-f8119e041c50",
   "metadata": {},
   "outputs": [],
   "source": [
    "24. Write a Python program to create a dictionary from a string.\n",
    "Note: Track the count of the letters from the string.\n",
    "Sample string : 'w3resource'\n",
    "Expected output: {'w': 1, '3': 1, 'r': 2, 'e': 2, 's': 1, 'o': 1, 'u': 1, 'c': 1}"
   ]
  },
  {
   "cell_type": "code",
   "execution_count": 96,
   "id": "5bd37e04-c3dd-4745-89cf-4456ff52c8ac",
   "metadata": {},
   "outputs": [
    {
     "data": {
      "text/plain": [
       "{'3': 1, 'c': 1, 'e': 2, 'o': 1, 'r': 2, 's': 1, 'u': 1, 'w': 1}"
      ]
     },
     "execution_count": 96,
     "metadata": {},
     "output_type": "execute_result"
    }
   ],
   "source": [
    "a='w3resource'\n",
    "b=set(a)\n",
    "c={}\n",
    "for i in sorted(b):\n",
    "    c[i]=a.count(i)\n",
    "c"
   ]
  },
  {
   "cell_type": "code",
   "execution_count": null,
   "id": "40eb9f4f-92a1-4980-a3d3-efdf075409c9",
   "metadata": {},
   "outputs": [],
   "source": [
    "25. Write a Python program to print a dictionary in table format."
   ]
  },
  {
   "cell_type": "code",
   "execution_count": 113,
   "id": "4afee455-3008-41f1-8095-239cf77c2ea5",
   "metadata": {},
   "outputs": [
    {
     "name": "stdout",
     "output_type": "stream",
     "text": [
      "C1  C2  C3\n",
      "1   5   9\n",
      "2   6   10\n",
      "3   7   11\n"
     ]
    }
   ],
   "source": [
    "a= {'C1': [1, 2, 3], 'C2': [5, 6, 7], 'C3': [9, 10, 11]}\n",
    "b=list(a.keys())\n",
    "print('  '.join(b))\n",
    "c=list(a.values())\n",
    "c\n",
    "for i in range(len(c)):\n",
    "    x=[]\n",
    "    for j in range(len(c)):\n",
    "        x.append(str(c[j][i]))\n",
    "    print('   '.join(x))\n",
    "        "
   ]
  },
  {
   "cell_type": "code",
   "execution_count": null,
   "id": "fbd4b2af-e4ec-412f-8a52-e4c99c65b0fa",
   "metadata": {},
   "outputs": [],
   "source": [
    "26. Write a Python program to count the values associated with a key in a dictionary."
   ]
  },
  {
   "cell_type": "code",
   "execution_count": 117,
   "id": "1998e62d-3d50-42de-b916-4fbf90196d42",
   "metadata": {},
   "outputs": [
    {
     "data": {
      "text/plain": [
       "6"
      ]
     },
     "execution_count": 117,
     "metadata": {},
     "output_type": "execute_result"
    }
   ],
   "source": [
    "student = [{'id': 1, 'success': True, 'name': 'Lary'},\n",
    " {'id': 2, 'success': False, 'name': 'Rabi'},\n",
    " {'id': 3, 'success': True, 'name': 'Alex'}]\n",
    "summ=0\n",
    "for i in student:\n",
    "    for j in i:\n",
    "        if j==\"id\":\n",
    "            summ+=i[j]\n",
    "summ"
   ]
  },
  {
   "cell_type": "code",
   "execution_count": null,
   "id": "0d699d9d-3e0d-4698-98fd-96471b61ce3c",
   "metadata": {},
   "outputs": [],
   "source": [
    "27. Write a Python program to convert a list into a nested dictionary of keys."
   ]
  },
  {
   "cell_type": "code",
   "execution_count": 123,
   "id": "86cfcb5a-a8f7-465a-a3bf-35bd777960ec",
   "metadata": {},
   "outputs": [
    {
     "data": {
      "text/plain": [
       "{1: {2: {3: {4: {}}}}}"
      ]
     },
     "execution_count": 123,
     "metadata": {},
     "output_type": "execute_result"
    }
   ],
   "source": [
    "a = [1, 2, 3, 4]\n",
    "c=b={}\n",
    "for i in a:\n",
    "    b[i]={}\n",
    "    b=b[i]\n",
    " \n",
    "c\n"
   ]
  },
  {
   "cell_type": "code",
   "execution_count": null,
   "id": "e8ac93b3-10a1-4153-9529-73a6efc3ac6a",
   "metadata": {},
   "outputs": [],
   "source": [
    "28. Write a Python program to sort a list alphabetically in a dictionary."
   ]
  },
  {
   "cell_type": "code",
   "execution_count": 129,
   "id": "aae163b2-1e18-4a54-89bc-fb9fc026df96",
   "metadata": {},
   "outputs": [
    {
     "name": "stdout",
     "output_type": "stream",
     "text": [
      "[[1, 2, 3], [1, 2, 5], [2, 3, 4]]\n"
     ]
    },
    {
     "data": {
      "text/plain": [
       "{'n1': [2, 3, 4], 'n2': [1, 2, 5], 'n3': [2, 3, 4]}"
      ]
     },
     "execution_count": 129,
     "metadata": {},
     "output_type": "execute_result"
    }
   ],
   "source": [
    "num = {'n1': [2, 3, 1], 'n2': [5, 1, 2], 'n3': [3, 2, 4]}\n",
    "b=list(num.values())\n",
    "for i in b:\n",
    "    i.sort()\n",
    "b\n",
    "print(b)\n",
    "for i in num:\n",
    "    for j in range(b):\n",
    "        num[i]=j"
   ]
  },
  {
   "cell_type": "code",
   "execution_count": 133,
   "id": "c90fff9c-2e81-42e2-bf34-f914cc58bed6",
   "metadata": {},
   "outputs": [
    {
     "name": "stdout",
     "output_type": "stream",
     "text": [
      "{'S001': ['Math', 'Science'], 'S002': ['Math', 'English']}\n"
     ]
    }
   ],
   "source": [
    "s={'S  001': ['Math', 'Science'], 'S    002': ['Math', 'English']}\n",
    "s11=[]\n",
    "m=list(s.values())\n",
    "for i in s:\n",
    "    k=\"\"\n",
    "    for j in i:\n",
    "        if j!=\" \":\n",
    "            k+=j\n",
    "    s11.append(k)\n",
    "k={}\n",
    "for i in range(len(s11)):\n",
    "    k[s11[i]]=m[i]\n",
    "print(k)\n",
    "            "
   ]
  },
  {
   "cell_type": "code",
   "execution_count": null,
   "id": "6cc323e2-51fa-4d87-aed2-685d5cc2ab9e",
   "metadata": {},
   "outputs": [],
   "source": [
    "30. Write a Python program to get the top three items in a shop.\n",
    "Sample data: {'item1': 45.50, 'item2':35, 'item3': 41.30, 'item4':55, 'item5': 24}\n",
    "Expected Output:\n",
    "item4 55\n",
    "item1 45.5\n",
    "item3 41.3"
   ]
  },
  {
   "cell_type": "code",
   "execution_count": 140,
   "id": "587404ce-7333-4d59-8d07-ff40047e87d4",
   "metadata": {},
   "outputs": [
    {
     "name": "stdout",
     "output_type": "stream",
     "text": [
      "item4 55\n",
      "item1 45.5\n",
      "item3 41.3\n"
     ]
    }
   ],
   "source": [
    "a={'item1': 45.50, 'item2':35, 'item3': 41.30, 'item4':55, 'item5': 24}\n",
    "b=list(a.keys())\n",
    "c=list(a.values())\n",
    "c.sort(reverse=True)\n",
    "d=c[:len(c)-2]\n",
    "for i in d:\n",
    "    for j,k in a.items():\n",
    "        if i==k:\n",
    "            print(j,k)"
   ]
  },
  {
   "cell_type": "code",
   "execution_count": null,
   "id": "8635e8e1-6494-4e6a-bce2-a1dc7b88abba",
   "metadata": {},
   "outputs": [],
   "source": [
    "31. Write a Python program to get the key, value and item in a dictionary."
   ]
  },
  {
   "cell_type": "code",
   "execution_count": 150,
   "id": "c219f4e9-7dda-4659-a3cf-4325b295ef73",
   "metadata": {},
   "outputs": [
    {
     "name": "stdout",
     "output_type": "stream",
     "text": [
      "Keys  Values count\n",
      "1     10       1\n",
      "2     20       2\n",
      "3     30       3\n",
      "4     40       4\n",
      "5     50       5\n",
      "6     60       6\n"
     ]
    }
   ],
   "source": [
    "dict_num = {1: 10, 2: 20, 3: 30, 4: 40, 5: 50, 6: 60}\n",
    "k=1\n",
    "print(\"Keys \"+\" Values\"+\" count\")\n",
    "for i,j in dict_num.items():\n",
    "    print(str(i)+\"     \"+str(j)+\"       \"+str(k))\n",
    "    k+=1\n",
    "    "
   ]
  },
  {
   "cell_type": "code",
   "execution_count": 154,
   "id": "b7b601fa-7729-453a-8116-365af6753166",
   "metadata": {},
   "outputs": [
    {
     "data": {
      "text/plain": [
       "{1: 'a', 2: 'b'}"
      ]
     },
     "execution_count": 154,
     "metadata": {},
     "output_type": "execute_result"
    }
   ],
   "source": [
    "a={\"a\":1,\"b\":2}\n",
    "k=list(a.keys())\n",
    "m=list(a.values())\n",
    "c={}\n",
    "for i,j in zip(k,m):\n",
    "    c[j]=i\n",
    "c"
   ]
  },
  {
   "cell_type": "code",
   "execution_count": 2,
   "id": "2bfd8cad-d7c2-4e2a-96dd-5c941616a6bd",
   "metadata": {},
   "outputs": [
    {
     "data": {
      "text/plain": [
       "[1, 2, 3]"
      ]
     },
     "execution_count": 2,
     "metadata": {},
     "output_type": "execute_result"
    }
   ],
   "source": [
    "a=list((1,2,3))\n",
    "a"
   ]
  },
  {
   "cell_type": "code",
   "execution_count": null,
   "id": "9bdca688-2a4f-415f-bfdc-0dba9938066b",
   "metadata": {},
   "outputs": [],
   "source": []
  },
  {
   "cell_type": "code",
   "execution_count": null,
   "id": "6a1806d9-4e62-41e7-aaba-9fd3eeee6ffa",
   "metadata": {},
   "outputs": [],
   "source": []
  },
  {
   "cell_type": "code",
   "execution_count": null,
   "id": "ac4bfeec-5e7c-4b55-b116-368c4919a87c",
   "metadata": {},
   "outputs": [],
   "source": []
  },
  {
   "cell_type": "code",
   "execution_count": null,
   "id": "38aae273-3055-484e-90e3-a5f6d610ea67",
   "metadata": {},
   "outputs": [],
   "source": [
    "33. Write a Python program to check if multiple keys exist in a dictionary."
   ]
  },
  {
   "cell_type": "code",
   "execution_count": 131,
   "id": "0dbbcdcb-beb5-4fbb-b702-3157ee09ad41",
   "metadata": {},
   "outputs": [
    {
     "name": "stdout",
     "output_type": "stream",
     "text": [
      "False\n"
     ]
    }
   ],
   "source": [
    "student = {\n",
    "  'name': 'Alex',\n",
    "  'class': 'V',\n",
    "  'roll_id': '2'\n",
    "}\n",
    "b=list(student.keys())\n",
    "a={'name', 'Alex'}\n",
    "a11=list(sorted(a))\n",
    "flag=0\n",
    "for i in a11:\n",
    "     if i  not in student.keys():\n",
    "         flag=1\n",
    "         break\n",
    "if falg==1:\n",
    "    print(\"False\")\n",
    "else:\n",
    "    print(\"True\")"
   ]
  },
  {
   "cell_type": "code",
   "execution_count": null,
   "id": "e686a741-1a01-4cf3-807b-b08866d0cf5e",
   "metadata": {},
   "outputs": [],
   "source": []
  },
  {
   "cell_type": "code",
   "execution_count": null,
   "id": "448c5ad9-fa52-4464-a97c-928ce3402b9d",
   "metadata": {},
   "outputs": [],
   "source": [
    "34. Write a Python program to count the number of items in a dictionary value that is a list."
   ]
  },
  {
   "cell_type": "code",
   "execution_count": 118,
   "id": "314903d8-3733-476f-8fb7-832555c8a7c4",
   "metadata": {},
   "outputs": [
    {
     "data": {
      "text/plain": [
       "5"
      ]
     },
     "execution_count": 118,
     "metadata": {},
     "output_type": "execute_result"
    }
   ],
   "source": [
    "d=  {'Alex': ['subj1', 'subj2', 'subj3'], 'David': ['subj1', 'subj2']}\n",
    "a=list(d.values())\n",
    "count=0\n",
    "for i in a:\n",
    "    for j in i:\n",
    "        count+=1\n",
    "count\n"
   ]
  },
  {
   "cell_type": "code",
   "execution_count": null,
   "id": "76638d23-af6d-4cca-a5bd-40cfa546c6ee",
   "metadata": {},
   "outputs": [],
   "source": [
    "35. Write a Python program to sort Counter by value.\n",
    "Sample data : {'Math':81, 'Physics':83, 'Chemistry':87}\n",
    "Expected data: [('Chemistry', 87), ('Physics', 83), ('Math', 81)]"
   ]
  },
  {
   "cell_type": "code",
   "execution_count": 116,
   "id": "1ca56a7f-fd6a-4031-8ab6-dc5019b9f2b4",
   "metadata": {},
   "outputs": [
    {
     "data": {
      "text/plain": [
       "[('Chemistry', 87), ('Physics', 83), ('Math', 81)]"
      ]
     },
     "execution_count": 116,
     "metadata": {},
     "output_type": "execute_result"
    }
   ],
   "source": [
    "a={'Math':81, 'Physics':83, 'Chemistry':87}\n",
    "b=[]\n",
    "c=list(a.values())\n",
    "c.sort(reverse=True)\n",
    "for k in c:\n",
    "    for i,j in a.items():\n",
    "        if k==j:\n",
    "            b.append((i,j))\n",
    "b"
   ]
  },
  {
   "cell_type": "code",
   "execution_count": null,
   "id": "d272c5ab-f2d0-403b-b072-7812f51441f5",
   "metadata": {},
   "outputs": [],
   "source": []
  },
  {
   "cell_type": "code",
   "execution_count": 113,
   "id": "18925d33-29ec-40f2-80f4-cfdc1e4a9adf",
   "metadata": {},
   "outputs": [
    {
     "data": {
      "text/plain": [
       "{'Class-V': {1}, 'Class-VI': {2}, 'Class-VII': {2}, 'Class-VIII': {3}}"
      ]
     },
     "execution_count": 113,
     "metadata": {},
     "output_type": "execute_result"
    }
   ],
   "source": [
    "a=['Class-V', 'Class-VI', 'Class-VII', 'Class-VIII']\n",
    "b=[1, 2, 2, 3]\n",
    "c={}\n",
    "for i,j in zip(a,b):\n",
    "    c[i]={j}\n",
    "d=[]\n",
    "\n",
    "c\n",
    "    "
   ]
  },
  {
   "cell_type": "code",
   "execution_count": 114,
   "id": "a3d70679-a8d6-4c68-852a-1d02fcc991c9",
   "metadata": {},
   "outputs": [
    {
     "data": {
      "text/plain": [
       "<__main__.a at 0x2083b373f10>"
      ]
     },
     "execution_count": 114,
     "metadata": {},
     "output_type": "execute_result"
    }
   ],
   "source": []
  },
  {
   "cell_type": "code",
   "execution_count": null,
   "id": "4f52b4b6-3991-4fb9-8875-2c4218b625c4",
   "metadata": {},
   "outputs": [],
   "source": []
  },
  {
   "cell_type": "code",
   "execution_count": 100,
   "id": "21fce652-b96e-4d6e-9fd5-abf86c2f32ec",
   "metadata": {},
   "outputs": [
    {
     "name": "stdout",
     "output_type": "stream",
     "text": [
      "key1:1 is in  both x and y\n"
     ]
    }
   ],
   "source": [
    "x = {'key1': 1, 'key2': 3, 'key3': 2}\n",
    "y = {'key1': 1, 'key2': 2}\n",
    "for i,j in x.items():\n",
    "    for a,b in y.items():\n",
    "        if i==a and j==b:\n",
    "            print(\"{}:{} is in  both x and y\".format(i,j))\n",
    "    "
   ]
  },
  {
   "cell_type": "code",
   "execution_count": null,
   "id": "2b8c0406-1f32-497b-ac90-0644df55d4dc",
   "metadata": {},
   "outputs": [],
   "source": []
  },
  {
   "cell_type": "code",
   "execution_count": null,
   "id": "72f701ca-5817-4c82-9af4-33ddf8e45402",
   "metadata": {},
   "outputs": [],
   "source": []
  },
  {
   "cell_type": "code",
   "execution_count": null,
   "id": "97057eb8-3db8-4b8b-9d68-ad0cc6d90536",
   "metadata": {},
   "outputs": [],
   "source": [
    "40. Write a Python program to create a dictionary of keys x, y, and z where each key has as value a list from 11-20, 21-30, and 31-40 respectively. Access the fifth value of each key from the dictionary.\n",
    "{'x': [11, 12, 13, 14, 15, 16, 17, 18, 19],\n",
    "'y': [21, 22, 23, 24, 25, 26, 27, 28, 29],\n",
    "'z': [31, 32, 33, 34, 35, 36, 37, 38, 39]}\n",
    "15\n",
    "25\n",
    "35"
   ]
  },
  {
   "cell_type": "code",
   "execution_count": 99,
   "id": "4a133286-e955-4ad8-b49d-929c9435472e",
   "metadata": {},
   "outputs": [
    {
     "name": "stdout",
     "output_type": "stream",
     "text": [
      "15\n",
      "25\n",
      "35\n"
     ]
    }
   ],
   "source": [
    "a={'x': [11, 12, 13, 14, 15, 16, 17, 18, 19],\n",
    "'y': [21, 22, 23, 24, 25, 26, 27, 28, 29],\n",
    "'z': [31, 32, 33, 34, 35, 36, 37, 38, 39]}\n",
    "b=list(a.values())\n",
    "for i in b:\n",
    "    print(i[4])"
   ]
  },
  {
   "cell_type": "code",
   "execution_count": null,
   "id": "ea124885-a850-4336-aabc-8ac1897c8d1c",
   "metadata": {},
   "outputs": [],
   "source": []
  },
  {
   "cell_type": "code",
   "execution_count": null,
   "id": "bd6af205-11dc-41ef-93b2-7d313cca225f",
   "metadata": {},
   "outputs": [],
   "source": [
    "41. Write a Python program to drop empty items from a given dictionary.\n",
    "Original Dictionary:\n",
    "{'c1': 'Red', 'c2': 'Green', 'c3': None}\n",
    "New Dictionary after dropping empty items:\n",
    "{'c1': 'Red', 'c2': 'Green'}"
   ]
  },
  {
   "cell_type": "code",
   "execution_count": 98,
   "id": "03450bcf-c240-42c2-862c-79e385651c6f",
   "metadata": {},
   "outputs": [
    {
     "data": {
      "text/plain": [
       "{'c1': 'Red', 'c2': 'Green'}"
      ]
     },
     "execution_count": 98,
     "metadata": {},
     "output_type": "execute_result"
    }
   ],
   "source": [
    "a={'c1': 'Red', 'c2': 'Green', 'c3': None}\n",
    "b={}\n",
    "for i,j in a.items():\n",
    "    if j!= None:\n",
    "        b[i]=j\n",
    "b"
   ]
  },
  {
   "cell_type": "code",
   "execution_count": null,
   "id": "caa74128-b3ac-4f30-8445-47109d468975",
   "metadata": {},
   "outputs": [],
   "source": []
  },
  {
   "cell_type": "code",
   "execution_count": null,
   "id": "ef430dfe-9724-4b81-8775-6cfdeee89c32",
   "metadata": {},
   "outputs": [],
   "source": []
  },
  {
   "cell_type": "code",
   "execution_count": null,
   "id": "84a2d250-3bc0-4ab7-8886-68ddb5238ce1",
   "metadata": {},
   "outputs": [],
   "source": [
    "42. Write a Python program to filter a dictionary based on values.\n",
    "Original Dictionary:\n",
    "{'Cierra Vega': 175, 'Alden Cantrell': 180, 'Kierra Gentry': 165, 'Pierre Cox': 190}\n",
    "Marks greater than 170:\n",
    "{'Cierra Vega': 175, 'Alden Cantrell': 180, 'Pierre Cox': 190}"
   ]
  },
  {
   "cell_type": "code",
   "execution_count": 96,
   "id": "9ed5eeda-7095-43d6-ad2e-b004ba5cbe92",
   "metadata": {},
   "outputs": [
    {
     "data": {
      "text/plain": [
       "{'Cierra Vega': 175, 'Alden Cantrell': 180, 'Pierre Cox': 190}"
      ]
     },
     "execution_count": 96,
     "metadata": {},
     "output_type": "execute_result"
    }
   ],
   "source": [
    "a={'Cierra Vega': 175, 'Alden Cantrell': 180, 'Kierra Gentry': 165, 'Pierre Cox': 190}\n",
    "b={}\n",
    "for i,j in a.items():\n",
    "    if j>170:\n",
    "        b[i]=j\n",
    "b"
   ]
  },
  {
   "cell_type": "code",
   "execution_count": null,
   "id": "c0c2028b-c273-4650-ab7d-68106b697ab8",
   "metadata": {},
   "outputs": [],
   "source": []
  },
  {
   "cell_type": "code",
   "execution_count": null,
   "id": "af22e342-7951-46f6-9225-6c9297999525",
   "metadata": {},
   "outputs": [],
   "source": []
  },
  {
   "cell_type": "code",
   "execution_count": null,
   "id": "4c60b5b4-9500-495d-83af-ea5c3fa5a981",
   "metadata": {},
   "outputs": [],
   "source": [
    "43. Write a Python program to convert more than one list to a nested dictionary.\n",
    "Original strings:\n",
    "['S001', 'S002', 'S003', 'S004']\n",
    "['Adina Park', 'Leyton Marsh', 'Duncan Boyle', 'Saim Richards']\n",
    "[85, 98, 89, 92]\n",
    "Nested dictionary:\n",
    "[{'S001': {'Adina Park': 85}}, {'S002': {'Leyton Marsh': 98}}, {'S003': {'Duncan Boyle': 89}}, {'S004': {'Saim Richards': 92}}]"
   ]
  },
  {
   "cell_type": "code",
   "execution_count": 95,
   "id": "18c85285-826b-4617-abf1-fd10d226a3a0",
   "metadata": {},
   "outputs": [
    {
     "data": {
      "text/plain": [
       "[{'Adina Park': 85,\n",
       "  'Leyton Marsh': 98,\n",
       "  'Duncan Boyle': 89,\n",
       "  'Saim Richards': 92},\n",
       " {'Adina Park': 85,\n",
       "  'Leyton Marsh': 98,\n",
       "  'Duncan Boyle': 89,\n",
       "  'Saim Richards': 92},\n",
       " {'Adina Park': 85,\n",
       "  'Leyton Marsh': 98,\n",
       "  'Duncan Boyle': 89,\n",
       "  'Saim Richards': 92},\n",
       " {'Adina Park': 85,\n",
       "  'Leyton Marsh': 98,\n",
       "  'Duncan Boyle': 89,\n",
       "  'Saim Richards': 92}]"
      ]
     },
     "execution_count": 95,
     "metadata": {},
     "output_type": "execute_result"
    }
   ],
   "source": [
    "a=['S001', 'S002', 'S003', 'S004']\n",
    "b=['Adina Park', 'Leyton Marsh', 'Duncan Boyle', 'Saim Richards']\n",
    "c=[85, 98, 89, 92]\n"
   ]
  },
  {
   "cell_type": "code",
   "execution_count": null,
   "id": "a2282d21-f4a1-4301-96cb-22131176a9b5",
   "metadata": {},
   "outputs": [],
   "source": []
  },
  {
   "cell_type": "code",
   "execution_count": null,
   "id": "5f67382f-b137-419c-bd13-72b70631b878",
   "metadata": {},
   "outputs": [],
   "source": [
    "44. Write a Python program to filter the height and width of students, which are stored in a dictionary.\n",
    "Original Dictionary:\n",
    "{'Cierra Vega': (6.2, 70), 'Alden Cantrell': (5.9, 65), 'Kierra Gentry': (6.0, 68), 'Pierre Cox': (5.8, 66)}\n",
    "Height > 6ft and Weight> 70kg:\n",
    "{'Cierra Vega': (6.2, 70)}"
   ]
  },
  {
   "cell_type": "code",
   "execution_count": 83,
   "id": "67196e05-7d56-48a0-a0fe-42e7b686e05b",
   "metadata": {},
   "outputs": [
    {
     "data": {
      "text/plain": [
       "{'Cierra Vega': (6.2, 70)}"
      ]
     },
     "execution_count": 83,
     "metadata": {},
     "output_type": "execute_result"
    }
   ],
   "source": [
    "a={'Cierra Vega': (6.2, 70), 'Alden Cantrell': (5.9, 65), 'Kierra Gentry': (6.0, 68), 'Pierre Cox': (5.8, 66)}\n",
    "b=list(a.keys())\n",
    "c=list(a.values())\n",
    "k=[]\n",
    "for i in c:\n",
    "    if i[0]>6.0 and i[1]>=70:\n",
    "        k.append((i[0],i[1]))\n",
    "\n",
    "u={}\n",
    "for i in k:\n",
    "    for x,y in a.items():\n",
    "        if i==y:\n",
    "            u[x]=y\n",
    "u"
   ]
  },
  {
   "cell_type": "code",
   "execution_count": null,
   "id": "11ab364f-b3ec-4f4c-b602-ead467cfbd12",
   "metadata": {},
   "outputs": [],
   "source": []
  },
  {
   "cell_type": "code",
   "execution_count": null,
   "id": "c012add4-9857-4965-9489-9cb21556250b",
   "metadata": {},
   "outputs": [],
   "source": []
  },
  {
   "cell_type": "code",
   "execution_count": null,
   "id": "96d93d4f-32e9-4b09-84b2-d212b87062aa",
   "metadata": {},
   "outputs": [],
   "source": []
  },
  {
   "cell_type": "code",
   "execution_count": null,
   "id": "3df4e2d6-ad54-42fc-8cbe-0258711fa0f3",
   "metadata": {},
   "outputs": [],
   "source": []
  },
  {
   "cell_type": "code",
   "execution_count": null,
   "id": "e830c8bf-ceea-4696-8fda-85fd4e57d869",
   "metadata": {},
   "outputs": [],
   "source": []
  },
  {
   "cell_type": "code",
   "execution_count": null,
   "id": "19cf2ce7-9578-4f7f-98b0-ecb499dd3a68",
   "metadata": {},
   "outputs": [],
   "source": [
    "45. Write a Python program to verify that all values in a dictionary are the same.\n",
    "Original Dictionary:\n",
    "{'Cierra Vega': 12, 'Alden Cantrell': 12, 'Kierra Gentry': 12, 'Pierre Cox': 12}\n",
    "Check all are 12 in the dictionary.\n",
    "True\n",
    "Check all are 10 in the dictionary.\n",
    "False"
   ]
  },
  {
   "cell_type": "code",
   "execution_count": 77,
   "id": "98d7b399-f49d-47c0-84f0-86e320e9e162",
   "metadata": {},
   "outputs": [
    {
     "name": "stdin",
     "output_type": "stream",
     "text": [
      " 10\n"
     ]
    },
    {
     "name": "stdout",
     "output_type": "stream",
     "text": [
      "False\n"
     ]
    }
   ],
   "source": [
    "a={'Cierra Vega': 12, 'Alden Cantrell': 12, 'Kierra Gentry': 12, 'Pierre Cox': 12}\n",
    "b=int(input())\n",
    "flag=0\n",
    "for i in a.values():\n",
    "    if i!=b:\n",
    "        flag=1\n",
    "        break\n",
    "if flag:\n",
    "    print(\"False\")\n",
    "else:\n",
    "    print(\"True\")\n",
    "    "
   ]
  },
  {
   "cell_type": "code",
   "execution_count": null,
   "id": "32b733e7-dbc7-4d0e-894c-0307c8c1657c",
   "metadata": {},
   "outputs": [],
   "source": []
  },
  {
   "cell_type": "code",
   "execution_count": null,
   "id": "1acdf795-fce6-4cc7-93e2-c0342de263e4",
   "metadata": {},
   "outputs": [],
   "source": []
  },
  {
   "cell_type": "code",
   "execution_count": null,
   "id": "263ab9fe-9223-4c02-8fb0-fc539fc73582",
   "metadata": {},
   "outputs": [],
   "source": [
    "46. Write a Python program to create a dictionary grouping a sequence of key-value pairs into a dictionary of lists.\n",
    "Original list:\n",
    "[('yellow', 1), ('blue', 2), ('yellow', 3), ('blue', 4), ('red', 1)]\n",
    "Grouping a sequence of key-value pairs into a dictionary of lists:\n",
    "{'yellow': [1, 3], 'blue': [2, 4], 'red': [1]}"
   ]
  },
  {
   "cell_type": "code",
   "execution_count": 75,
   "id": "baf58d51-40d3-4987-ab7e-2de1cc86f0f2",
   "metadata": {},
   "outputs": [
    {
     "name": "stdout",
     "output_type": "stream",
     "text": [
      "yellow\n",
      "blue\n",
      "yellow\n",
      "blue\n",
      "red\n"
     ]
    }
   ],
   "source": [
    "a=[('yellow', 1), ('blue', 2), ('yellow', 3), ('blue', 4), ('red', 1)]\n",
    "b={}\n",
    "for i in a:\n",
    "    k=[]\n",
    "    if i[0] not in b:\n",
    "        b[i]=i[1]\n",
    "    else:\n",
    "        "
   ]
  },
  {
   "cell_type": "code",
   "execution_count": null,
   "id": "949a6c8d-86ea-4dd9-a18f-21e36f27ae30",
   "metadata": {},
   "outputs": [],
   "source": []
  },
  {
   "cell_type": "code",
   "execution_count": null,
   "id": "8cbf22d4-b7d8-4392-972c-32aebca747f7",
   "metadata": {},
   "outputs": [],
   "source": [
    "47. Write a Python program to split a given dictionary of lists into lists of dictionaries.\n",
    "Original dictionary of lists:\n",
    "{'Science': [88, 89, 62, 95], 'Language': [77, 78, 84, 80]}\n",
    "Split said dictionary of lists into list of dictionaries:\n",
    "[{'Science': 88, 'Language': 77}, {'Science': 89, 'Language': 78}, {'Science': 62, 'Language': 84}, {'Science': 95, 'Language': 80}]"
   ]
  },
  {
   "cell_type": "code",
   "execution_count": null,
   "id": "57ba111b-4e11-4178-b143-0609c3b59330",
   "metadata": {},
   "outputs": [],
   "source": [
    "a={'Science': [88, 89, 62, 95], 'Language': [77, 78, 84, 80]}\n",
    "b=[]\n",
    "c=list(a.keys())\n",
    "d=list(a.values())\n"
   ]
  },
  {
   "cell_type": "code",
   "execution_count": null,
   "id": "5e9c531b-be52-44f6-838f-501ce0abe2db",
   "metadata": {},
   "outputs": [],
   "source": []
  },
  {
   "cell_type": "code",
   "execution_count": null,
   "id": "0ac826bf-ebdd-432c-9c46-e1645675ccfe",
   "metadata": {},
   "outputs": [],
   "source": [
    "48. Write a Python program to remove a specified dictionary from a given list.\n",
    "Original list of dictionary:\n",
    "[{'id': '#FF0000', 'color': 'Red'}, {'id': '#800000', 'color': 'Maroon'}, {'id': '#FFFF00', 'color': 'Yellow'}, {'id': '#808000', 'color': 'Olive'}]\n",
    "Remove id #FF0000 from the said list of dictionary:\n",
    "[{'id': '#800000', 'color': 'Maroon'}, {'id': '#FFFF00', 'color': 'Yellow'}, {'id': '#808000', 'color': 'Olive'}]"
   ]
  },
  {
   "cell_type": "code",
   "execution_count": 72,
   "id": "1f750f08-64e8-47ce-9c5f-4d776e2cc8b8",
   "metadata": {},
   "outputs": [
    {
     "name": "stderr",
     "output_type": "stream",
     "text": [
      "<>:5: SyntaxWarning: \"is\" with a literal. Did you mean \"==\"?\n",
      "<>:5: SyntaxWarning: \"is\" with a literal. Did you mean \"==\"?\n",
      "C:\\Users\\Venkatesh\\AppData\\Local\\Temp\\ipykernel_9020\\4186833839.py:5: SyntaxWarning: \"is\" with a literal. Did you mean \"==\"?\n",
      "  if i[j] is \"#FF0000\":\n"
     ]
    },
    {
     "data": {
      "text/plain": [
       "[{'id': '#FF0000', 'color': 'Red'},\n",
       " {'id': '#800000', 'color': 'Maroon'},\n",
       " {'id': '#FFFF00', 'color': 'Yellow'},\n",
       " {'id': '#808000', 'color': 'Olive'}]"
      ]
     },
     "execution_count": 72,
     "metadata": {},
     "output_type": "execute_result"
    }
   ],
   "source": [
    "a=[{'id': '#FF0000', 'color': 'Red'}, {'id': '#800000', 'color': 'Maroon'}, {'id': '#FFFF00', 'color': 'Yellow'}, \n",
    "   {'id': '#808000', 'color': 'Olive'}]\n",
    "for i in a:\n",
    "    for j in i:\n",
    "        if i[j] is \"#FF0000\":\n",
    "            del i\n",
    "a\n",
    "        "
   ]
  },
  {
   "cell_type": "code",
   "execution_count": null,
   "id": "30817f61-deb0-4496-91b7-cda41b6d613c",
   "metadata": {},
   "outputs": [],
   "source": []
  },
  {
   "cell_type": "code",
   "execution_count": null,
   "id": "389fe2fb-5d0d-4998-818c-e638177e064a",
   "metadata": {},
   "outputs": [],
   "source": [
    "49. Write a Python program to convert string values of a given dictionary into integer/float datatypes.\n",
    "Original list:\n",
    "[{'x': '10', 'y': '20', 'z': '30'}, {'p': '40', 'q': '50', 'r': '60'}]\n",
    "String values of a given dictionary, into integer types:\n",
    "[{'x': 10, 'y': 20, 'z': 30}, {'p': 40, 'q': 50, 'r': 60}]\n",
    "Original list:\n",
    "[{'x': '10.12', 'y': '20.23', 'z': '30'}, {'p': '40.00', 'q': '50.19', 'r': '60.99'}]\n",
    "String values of a given dictionary, into float types:\n",
    "[{'x': 10.12, 'y': 20.23, 'z': 30.0}, {'p': 40.0, 'q': 50.19, 'r': 60.99}]"
   ]
  },
  {
   "cell_type": "code",
   "execution_count": 61,
   "id": "6c59dfc7-1f69-4415-9e8d-806e4bb11e61",
   "metadata": {},
   "outputs": [
    {
     "data": {
      "text/plain": [
       "[{'x': 10, 'y': 20, 'z': 30}, {'p': 40, 'q': 50, 'r': 60}]"
      ]
     },
     "execution_count": 61,
     "metadata": {},
     "output_type": "execute_result"
    }
   ],
   "source": [
    "a=[{'x': '10', 'y': '20', 'z': '30'}, {'p': '40', 'q': '50', 'r': '60'}]\n",
    "for i in a:\n",
    "    for j in i:\n",
    "        i[j]=int(i[j])\n",
    "a"
   ]
  },
  {
   "cell_type": "code",
   "execution_count": null,
   "id": "0a2f8b2c-286d-4a88-b99d-fae121a9b78e",
   "metadata": {},
   "outputs": [],
   "source": []
  },
  {
   "cell_type": "code",
   "execution_count": null,
   "id": "63c1aa45-e8aa-493e-bf7a-b72da9cde179",
   "metadata": {},
   "outputs": [],
   "source": [
    "50. A Python dictionary contains List as a value. Write a Python program to clear the list values in the said dictionary.\n",
    "Original Dictionary:\n",
    "{'C1': [10, 20, 30], 'C2': [20, 30, 40], 'C3': [12, 34]}\n",
    "Clear the list values in the said dictionary:\n",
    "{'C1': [], 'C2': [], 'C3': []}"
   ]
  },
  {
   "cell_type": "code",
   "execution_count": 60,
   "id": "70668704-8f71-494c-8604-6fd4806ee819",
   "metadata": {},
   "outputs": [
    {
     "data": {
      "text/plain": [
       "{'C1': [], 'C2': [], 'C3': []}"
      ]
     },
     "execution_count": 60,
     "metadata": {},
     "output_type": "execute_result"
    }
   ],
   "source": [
    "a={'C1': [10, 20, 30], 'C2': [20, 30, 40], 'C3': [12, 34]}\n",
    "b=list(a.keys())\n",
    "c=list(a.values())\n",
    "d=[]\n",
    "x={}\n",
    "for i in c:\n",
    "    d.append(i[:0])\n",
    "for i,j in zip(b,d):\n",
    "    x[i]=j\n",
    "x\n",
    "    "
   ]
  },
  {
   "cell_type": "code",
   "execution_count": null,
   "id": "60fc7d06-1fca-45c3-9877-2745f0e2e889",
   "metadata": {},
   "outputs": [],
   "source": []
  },
  {
   "cell_type": "code",
   "execution_count": null,
   "id": "f71f5010-9d40-42d9-ae29-6954f46e274d",
   "metadata": {},
   "outputs": [],
   "source": [
    "51. A Python Dictionary contains List as a value. Write a Python program to update the list values in the said dictionary.\n",
    "Original Dictionary:\n",
    "{'Math': [88, 89, 90], 'Physics': [92, 94, 89], 'Chemistry': [90, 87, 93]}\n",
    "Update the list values of the said dictionary:\n",
    "{'Math': [89, 90, 91], 'Physics': [90, 92, 87], 'Chemistry': [90, 87, 93]}"
   ]
  },
  {
   "cell_type": "code",
   "execution_count": 57,
   "id": "299eb72b-bd98-4fba-bcbd-407a74b8483f",
   "metadata": {},
   "outputs": [
    {
     "data": {
      "text/plain": [
       "{'Math': [89, 90, 91], 'Physics': [90, 92, 87], 'Chemistry': [90, 87, 93]}"
      ]
     },
     "execution_count": 57,
     "metadata": {},
     "output_type": "execute_result"
    }
   ],
   "source": [
    "a={'Math': [88, 89, 90], 'Physics': [92, 94, 89], 'Chemistry': [90, 87, 93]}\n",
    "b=list(a.values())\n",
    "c=[]\n",
    "for i in range(len(b)):\n",
    "    if i==0:\n",
    "        x=[]\n",
    "        for j in b[i]:\n",
    "            x.append(j+1)\n",
    "        c.append(x)\n",
    "    elif i==1:\n",
    "        if i==1:\n",
    "            x=[]\n",
    "            for j in b[i]:\n",
    "                x.append(j-2)\n",
    "            c.append(x)\n",
    "    else:\n",
    "        c.append(b[i])\n",
    "d=list(a.keys())\n",
    "q={}\n",
    "for i,j in zip(d,c):\n",
    "    q[i]=j\n",
    "q\n",
    "    "
   ]
  },
  {
   "cell_type": "code",
   "execution_count": null,
   "id": "adbfffb8-6457-4ecf-8f0d-643290027cf0",
   "metadata": {},
   "outputs": [],
   "source": []
  },
  {
   "cell_type": "code",
   "execution_count": null,
   "id": "07ffde26-c8a5-4aa0-a719-f2431de4efde",
   "metadata": {},
   "outputs": [],
   "source": [
    "52. Write a Python program to extract a list of values from a given list of dictionaries.\n",
    "Original Dictionary:\n",
    "[{'Math': 90, 'Science': 92}, {'Math': 89, 'Science': 94}, {'Math': 92, 'Science': 88}]\n",
    "Extract a list of values from said list of dictionaries where subject = Science\n",
    "[92, 94, 88]"
   ]
  },
  {
   "cell_type": "code",
   "execution_count": 52,
   "id": "48201f2d-285c-47ea-97df-cedeb9615508",
   "metadata": {},
   "outputs": [
    {
     "data": {
      "text/plain": [
       "[92, 94, 88]"
      ]
     },
     "execution_count": 52,
     "metadata": {},
     "output_type": "execute_result"
    }
   ],
   "source": [
    "a=[{'Math': 90, 'Science': 92}, {'Math': 89, 'Science': 94}, {'Math': 92, 'Science': 88}]\n",
    "b=[]\n",
    "for i in a:\n",
    "    for j in i:\n",
    "        if j==\"Science\":\n",
    "            b.append(i[j])\n",
    "b\n",
    "    "
   ]
  },
  {
   "cell_type": "code",
   "execution_count": null,
   "id": "34f3895c-41fd-4430-a73c-09776508da00",
   "metadata": {},
   "outputs": [],
   "source": []
  },
  {
   "cell_type": "code",
   "execution_count": null,
   "id": "60b382c9-22d3-4e12-a182-32ba4c91da52",
   "metadata": {},
   "outputs": [],
   "source": []
  },
  {
   "cell_type": "code",
   "execution_count": 49,
   "id": "3ddac519-27ca-4e4a-9121-a4cbe762f5cb",
   "metadata": {},
   "outputs": [
    {
     "data": {
      "text/plain": [
       "{'red': 3, 'green': 5, 'black': 5, 'white': 5}"
      ]
     },
     "execution_count": 49,
     "metadata": {},
     "output_type": "execute_result"
    }
   ],
   "source": [
    "a={1: 'red', 2: 'green', 3: 'black', 4: 'white', 5: 'black'}\n",
    "b={}\n",
    "c=list(a.values())\n",
    "for i in c:\n",
    "    b[i]=len(i)\n",
    "b"
   ]
  },
  {
   "cell_type": "code",
   "execution_count": null,
   "id": "5c326c2f-51da-402c-a877-4dbf173c1f43",
   "metadata": {},
   "outputs": [],
   "source": []
  },
  {
   "cell_type": "code",
   "execution_count": null,
   "id": "7283df44-547c-4c40-bbd9-35a8449c1826",
   "metadata": {},
   "outputs": [],
   "source": [
    "54.Write a Python program to get the depth of a dictionary."
   ]
  },
  {
   "cell_type": "code",
   "execution_count": 48,
   "id": "ae6387ef-ed8a-426c-a12f-c78537470ed4",
   "metadata": {},
   "outputs": [
    {
     "data": {
      "text/plain": [
       "4"
      ]
     },
     "execution_count": 48,
     "metadata": {},
     "output_type": "execute_result"
    }
   ],
   "source": [
    "a={'a': 1, 'b': {'c': {'d': {}}}}\n",
    "b=str(a)\n",
    "count=0\n",
    "for i in b:\n",
    "    if i==\"{\":\n",
    "        count+=1\n",
    "count"
   ]
  },
  {
   "cell_type": "code",
   "execution_count": null,
   "id": "97f0da7e-c863-4785-929a-cb6f79ed6fb2",
   "metadata": {},
   "outputs": [],
   "source": []
  },
  {
   "cell_type": "code",
   "execution_count": null,
   "id": "c2f800e8-4375-4997-8553-72501f800ac7",
   "metadata": {},
   "outputs": [],
   "source": [
    "55. Write a Python program to access dictionary key's element by index."
   ]
  },
  {
   "cell_type": "code",
   "execution_count": 45,
   "id": "91fb37ee-4c83-47bb-a753-70c8762c55dc",
   "metadata": {},
   "outputs": [
    {
     "ename": "KeyError",
     "evalue": "0",
     "output_type": "error",
     "traceback": [
      "\u001b[1;31m---------------------------------------------------------------------------\u001b[0m",
      "\u001b[1;31mKeyError\u001b[0m                                  Traceback (most recent call last)",
      "Cell \u001b[1;32mIn[45], line 3\u001b[0m\n\u001b[0;32m      1\u001b[0m num \u001b[38;5;241m=\u001b[39m {\u001b[38;5;124m'\u001b[39m\u001b[38;5;124mphysics\u001b[39m\u001b[38;5;124m'\u001b[39m: \u001b[38;5;241m80\u001b[39m, \u001b[38;5;124m'\u001b[39m\u001b[38;5;124mmath\u001b[39m\u001b[38;5;124m'\u001b[39m: \u001b[38;5;241m90\u001b[39m, \u001b[38;5;124m'\u001b[39m\u001b[38;5;124mchemistry\u001b[39m\u001b[38;5;124m'\u001b[39m: \u001b[38;5;241m86\u001b[39m}\n\u001b[0;32m      2\u001b[0m \u001b[38;5;28;01mfor\u001b[39;00m i \u001b[38;5;129;01min\u001b[39;00m \u001b[38;5;28mrange\u001b[39m(\u001b[38;5;28mlen\u001b[39m(num)):\n\u001b[1;32m----> 3\u001b[0m     \u001b[38;5;28mprint\u001b[39m(\u001b[38;5;28mlist\u001b[39m(\u001b[43mnum\u001b[49m\u001b[43m[\u001b[49m\u001b[43mi\u001b[49m\u001b[43m]\u001b[49m))\n",
      "\u001b[1;31mKeyError\u001b[0m: 0"
     ]
    }
   ],
   "source": [
    "num = {'physics': 80, 'math': 90, 'chemistry': 86}\n",
    "for i in range(len(num)):\n",
    "    print(list(num[i]))\n",
    "    "
   ]
  },
  {
   "cell_type": "code",
   "execution_count": null,
   "id": "54c0a355-c1e5-4a39-a2d2-0efcc215c96e",
   "metadata": {},
   "outputs": [],
   "source": [
    "56. Write a Python program to convert a dictionary into a list of lists.\n",
    "Original Dictionary:\n",
    "{1: 'red', 2: 'green', 3: 'black', 4: 'white', 5: 'black'}\n",
    "Convert the said dictionary into a list of lists:\n",
    "[[1, 'red'], [2, 'green'], [3, 'black'], [4, 'white'], [5, 'black']]\n",
    "Original Dictionary:\n",
    "{'1': 'Austin Little', '2': 'Natasha Howard', '3': 'Alfred Mullins', '4': 'Jamie Rowe'}\n",
    "Convert the said dictionary into a list of lists:\n",
    "[['1', 'Austin Little'], ['2', 'Natasha Howard'], ['3', 'Alfred Mullins'], ['4', 'Jamie Rowe']]"
   ]
  },
  {
   "cell_type": "code",
   "execution_count": 39,
   "id": "cb181e39-dbe1-421b-b262-48de827e2827",
   "metadata": {},
   "outputs": [
    {
     "data": {
      "text/plain": [
       "[[1, 'red'], [2, 'green'], [3, 'black'], [4, 'white'], [5, 'black']]"
      ]
     },
     "execution_count": 39,
     "metadata": {},
     "output_type": "execute_result"
    }
   ],
   "source": [
    "a={1: 'red', 2: 'green', 3: 'black', 4: 'white', 5: 'black'}\n",
    "b=[]\n",
    "for i,j in a.items():\n",
    "    b.append([i,j])\n",
    "b"
   ]
  },
  {
   "cell_type": "code",
   "execution_count": null,
   "id": "6ac944a5-e0c5-42e8-838e-8793cb08bcb0",
   "metadata": {},
   "outputs": [],
   "source": []
  },
  {
   "cell_type": "code",
   "execution_count": null,
   "id": "cb322696-3131-4127-9856-57e85c892291",
   "metadata": {},
   "outputs": [],
   "source": []
  },
  {
   "cell_type": "code",
   "execution_count": null,
   "id": "1357de01-2bd6-4cc4-9da8-6cdbdd8d09fc",
   "metadata": {},
   "outputs": [],
   "source": [
    "57. Write a Python program to filter even numbers from a dictionary of values.\n",
    "Original Dictionary:\n",
    "{'V': [1, 4, 6, 10], 'VI': [1, 4, 12], 'VII': [1, 3, 8]}\n",
    "Filter even numbers from said dictionary values:\n",
    "{'V': [4, 6, 10], 'VI': [4, 12], 'VII': [8]}\n",
    "Original Dictionary:\n",
    "{'V': [1, 3, 5], 'VI': [1, 5], 'VII': [2, 7, 9]}\n",
    "Filter even numbers from said dictionary values:\n",
    "{'V': [], 'VI': [], 'VII': [2]}"
   ]
  },
  {
   "cell_type": "code",
   "execution_count": 38,
   "id": "d64e70d2-2b75-4303-8135-cada9ab154da",
   "metadata": {},
   "outputs": [
    {
     "data": {
      "text/plain": [
       "{'V': [], 'VI': [], 'VII': [2]}"
      ]
     },
     "execution_count": 38,
     "metadata": {},
     "output_type": "execute_result"
    }
   ],
   "source": [
    "a={'V': [1, 3, 5], 'VI': [1, 5], 'VII': [2, 7, 9]}\n",
    "b=list(a.values())\n",
    "c=[]\n",
    "for i in b:\n",
    "    d=[]\n",
    "    for j in i :\n",
    "        if j%2==0:\n",
    "            d.append(j)\n",
    "    c.append(d)\n",
    "\n",
    "x=list(a.keys())\n",
    "q={}\n",
    "for i,j in zip(x,c):\n",
    "    q[i]=j\n",
    "q\n",
    "    "
   ]
  },
  {
   "cell_type": "code",
   "execution_count": null,
   "id": "84aa4c23-0dea-4e4c-8b39-0ee4decebff6",
   "metadata": {},
   "outputs": [],
   "source": []
  },
  {
   "cell_type": "code",
   "execution_count": null,
   "id": "c125bee0-2112-4718-94eb-5276812a3485",
   "metadata": {},
   "outputs": [],
   "source": []
  },
  {
   "cell_type": "code",
   "execution_count": null,
   "id": "b9d4904e-de26-4c11-93b0-5ff2eea40f38",
   "metadata": {},
   "outputs": [],
   "source": []
  },
  {
   "cell_type": "code",
   "execution_count": null,
   "id": "4b6eda3b-0087-4412-aa3c-ff1576f4ee9c",
   "metadata": {},
   "outputs": [],
   "source": []
  },
  {
   "cell_type": "code",
   "execution_count": null,
   "id": "fcac0a6d-6435-4481-aa7b-7c1f43de7dca",
   "metadata": {},
   "outputs": [],
   "source": []
  },
  {
   "cell_type": "code",
   "execution_count": null,
   "id": "35e30836-85ea-4d27-a40b-272e48b03c76",
   "metadata": {},
   "outputs": [],
   "source": [
    "59. Write a Python program to find the specified number of maximum values in a given dictionary.\n",
    "Original Dictionary:\n",
    "{'a': 5, 'b': 14, 'c': 32, 'd': 35, 'e': 24, 'f': 100, 'g': 57, 'h': 8, 'i': 100}\n",
    "1 maximum value(s) in the said dictionary:\n",
    "['f']\n",
    "2 maximum value(s) in the said dictionary:\n",
    "['f', 'i']\n",
    "5 maximum value(s) in the said dictionary:\n",
    "['f', 'i', 'g', 'd', 'c']"
   ]
  },
  {
   "cell_type": "code",
   "execution_count": 26,
   "id": "2cd7e276-9ee2-4833-986c-57f305cae93f",
   "metadata": {},
   "outputs": [
    {
     "name": "stdin",
     "output_type": "stream",
     "text": [
      " 5\n"
     ]
    },
    {
     "name": "stdout",
     "output_type": "stream",
     "text": [
      "[100, 100, 57, 35, 32]\n"
     ]
    },
    {
     "data": {
      "text/plain": [
       "['f', 'i', 'g', 'd', 'c']"
      ]
     },
     "execution_count": 26,
     "metadata": {},
     "output_type": "execute_result"
    }
   ],
   "source": [
    "a={'a': 5, 'b': 14, 'c': 32, 'd': 35, 'e': 24, 'f': 100, 'g': 57, 'h': 8, 'i': 100}\n",
    "b=int(input())\n",
    "c=list(a.values())\n",
    "c.sort(reverse=True)\n",
    "d=c[:b]\n",
    "print(d)\n",
    "x=[]\n",
    "y=[]\n",
    "for k in d:\n",
    "    for i,j in (a.items()):\n",
    "      if k==j and (i not in y):\n",
    "          y.append(i)\n",
    "y\n",
    "        "
   ]
  },
  {
   "cell_type": "code",
   "execution_count": null,
   "id": "691af873-7bad-49eb-af25-5ab9c35da033",
   "metadata": {},
   "outputs": [],
   "source": []
  },
  {
   "cell_type": "code",
   "execution_count": null,
   "id": "0ee866ae-38bf-4251-9a47-67f995e6195d",
   "metadata": {},
   "outputs": [],
   "source": [
    "60. Write a Python program to find the shortest list of values for the keys in a given dictionary.\n",
    "Original Dictionary: \n",
    "{'V': [10, 12], 'VI': [10], 'VII': [10, 20, 30, 40], \n",
    " 'VIII': [20], 'IX': [10, 30, 50, 70], 'X': [80]} "
   ]
  },
  {
   "cell_type": "code",
   "execution_count": 15,
   "id": "2d8edcbc-c89d-45ba-a462-ae53cbdd5b18",
   "metadata": {},
   "outputs": [
    {
     "name": "stdout",
     "output_type": "stream",
     "text": [
      "VI\n",
      "VIII\n",
      "X\n"
     ]
    }
   ],
   "source": [
    "a={'V': [10, 12], 'VI': [10], 'VII': [10, 20, 30, 40], \n",
    " 'VIII': [200], 'IX': [10, 30, 50, 70], 'X': [800]} \n",
    "b=list(a.values())\n",
    "c=[]\n",
    "for i in b:\n",
    "    c+=[len(i)]\n",
    "k=min(c)\n",
    "for i,j in a.items():\n",
    "    if len(j)==k:\n",
    "        print(i)\n"
   ]
  },
  {
   "cell_type": "code",
   "execution_count": null,
   "id": "b9fa6d3f-4095-41ff-8d65-78b7027e313a",
   "metadata": {},
   "outputs": [],
   "source": []
  },
  {
   "cell_type": "code",
   "execution_count": null,
   "id": "6911a8b4-fc40-46bd-8192-55ec7aecf799",
   "metadata": {},
   "outputs": [],
   "source": [
    "61. Write a Python program to count the frequency of a dictionary.\n",
    "Original Dictionary:\n",
    "{'V': 10, 'VI': 10, 'VII': 40, 'VIII': 20, 'IX': 70, 'X': 80, 'XI': 40, 'XII': 20}\n",
    "Count the frequency of the said dictionary:\n",
    "Counter({10: 2, 40: 2, 20: 2, 70: 1, 80: 1})"
   ]
  },
  {
   "cell_type": "code",
   "execution_count": 4,
   "id": "59b6b9c9-96e8-4557-9e26-10353950b6c1",
   "metadata": {},
   "outputs": [
    {
     "data": {
      "text/plain": [
       "{10: 2, 40: 2, 20: 2, 70: 1, 80: 1}"
      ]
     },
     "execution_count": 4,
     "metadata": {},
     "output_type": "execute_result"
    }
   ],
   "source": [
    "a={'V': 10, 'VI': 10, 'VII': 40, 'VIII': 20, 'IX': 70, 'X': 80, 'XI': 40, 'XII': 20}\n",
    "b=list(a.values())\n",
    "c={}\n",
    "for i in b:\n",
    "    if i not in c:\n",
    "        c[i]=1\n",
    "    else:\n",
    "        c[i]+=1\n",
    "c"
   ]
  },
  {
   "cell_type": "code",
   "execution_count": null,
   "id": "38bab868-29ae-44a6-9a72-44bb34308808",
   "metadata": {},
   "outputs": [],
   "source": []
  },
  {
   "cell_type": "code",
   "execution_count": null,
   "id": "11b1902f-0ee7-4ad8-b75a-bef9673aa264",
   "metadata": {},
   "outputs": [],
   "source": [
    "62. Write a Python program to extract values from a given dictionary and create a list of lists from those values.\n",
    "Original Dictionary:\n",
    "[{'student_id': 1, 'name': 'Jean Castro', 'class': 'V'}, {'student_id': 2, 'name': 'Lula Powell', 'class': 'V'}, {'student_id': 3, 'name': 'Brian Howell', 'class': 'VI'}, {'student_id': 4, 'name': 'Lynne Foster', 'class': 'VI'}, {'student_id': 5, 'name': 'Zachary Simon', 'class': 'VII'}]\n",
    "Extract values from the said dictionarie and create a list of lists using those values:\n",
    "[[1, 'Jean Castro', 'V'], [2, 'Lula Powell', 'V'], [3, 'Brian Howell', 'VI'], [4, 'Lynne Foster', 'VI'], [5, 'Zachary Simon', 'VII']]\n",
    "[[1, 'Jean Castro'], [2, 'Lula Powell'], [3, 'Brian Howell'], [4, 'Lynne Foster'], [5, 'Zachary Simon']]\n",
    "[['Jean Castro', 'V'], ['Lula Powell', 'V'], ['Brian Howell', 'VI'], ['Lynne Foster', 'VI'], ['Zachary Simon', 'VII']]\n",
    "Click me to see the sample solution"
   ]
  },
  {
   "cell_type": "code",
   "execution_count": 44,
   "id": "9f66f69c-8076-4efc-b31b-8abad1c45b56",
   "metadata": {},
   "outputs": [
    {
     "data": {
      "text/plain": [
       "[[1, 'Jean Castro', 'V'],\n",
       " [2, 'Lula Powell', 'V'],\n",
       " [3, 'Brian Howell', 'VI'],\n",
       " [4, 'Lynne Foster', 'VI'],\n",
       " [5, 'Zachary Simon', 'VII']]"
      ]
     },
     "execution_count": 44,
     "metadata": {},
     "output_type": "execute_result"
    }
   ],
   "source": [
    "a=[]\n",
    "b=[{'student_id': 1, 'name': 'Jean Castro', 'class': 'V'}, {'student_id': 2, 'name': 'Lula Powell', 'class': 'V'},\n",
    "   {'student_id': 3, 'name': 'Brian Howell', 'class': 'VI'},\n",
    "   {'student_id': 4, 'name': 'Lynne Foster', 'class': 'VI'}, {'student_id': 5, 'name': 'Zachary Simon', 'class': 'VII'}]\n",
    "\n",
    "for i in b:\n",
    "    x=[]\n",
    "    for j in i.values():\n",
    "        x.append(j)\n",
    "    a.append(x)\n",
    "a"
   ]
  },
  {
   "cell_type": "code",
   "execution_count": null,
   "id": "a3527400-3c10-4cc7-8ac8-a4bc4d7197cf",
   "metadata": {},
   "outputs": [],
   "source": [
    "63. Write a Python program to convert a given list of lists to a dictionary.\n",
    "Original list of lists:\n",
    "[[1, 'Jean Castro', 'V'], [2, 'Lula Powell', 'V'], [3, 'Brian Howell', 'VI'], [4, 'Lynne Foster', 'VI'], [5, 'Zachary Simon', 'VII']]\n",
    "Convert the said list of lists to a dictionary:\n",
    "{1: ['Jean Castro', 'V'], 2: ['Lula Powell', 'V'], 3: ['Brian Howell', 'VI'], 4: ['Lynne Foster', 'VI'], 5: ['Zachary Simon', 'VII']}"
   ]
  },
  {
   "cell_type": "code",
   "execution_count": 41,
   "id": "908150c4-a81c-403f-bb15-fda66e126bfa",
   "metadata": {},
   "outputs": [
    {
     "data": {
      "text/plain": [
       "{1: ['Jean Castro', 'V'],\n",
       " 2: ['Lula Powell', 'V'],\n",
       " 3: ['Brian Howell', 'VI'],\n",
       " 4: ['Lynne Foster', 'VI'],\n",
       " 5: ['Zachary Simon', 'VII']}"
      ]
     },
     "execution_count": 41,
     "metadata": {},
     "output_type": "execute_result"
    }
   ],
   "source": [
    "a=[[1, 'Jean Castro', 'V'], [2, 'Lula Powell', 'V'], [3, 'Brian Howell', 'VI'], [4, 'Lynne Foster', 'VI'], [5, 'Zachary Simon', 'VII']]\n",
    "b={}\n",
    "for i in a:\n",
    "    b[i[0]]=i[1:]\n",
    "b"
   ]
  },
  {
   "cell_type": "code",
   "execution_count": null,
   "id": "d33d92d3-4fbb-4485-827b-d5271635b37a",
   "metadata": {},
   "outputs": [],
   "source": []
  },
  {
   "cell_type": "code",
   "execution_count": null,
   "id": "90664bd7-89ec-4f58-9067-12177d995a7b",
   "metadata": {},
   "outputs": [],
   "source": [
    "64. Write a Python program that creates key-value list pairings within a dictionary.\n",
    "Original dictionary:\n",
    "{1: ['Jean Castro'], 2: ['Lula Powell'], 3: ['Brian Howell'], 4: ['Lynne Foster'], 5: ['Zachary Simon']}\n",
    "A key-value list pairings of the said dictionary:\n",
    "[{1: 'Jean Castro', 2: 'Lula Powell', 3: 'Brian Howell', 4: 'Lynne Foster', 5: 'Zachary Simon'}]"
   ]
  },
  {
   "cell_type": "code",
   "execution_count": 2,
   "id": "5cc8b7b1-3136-4934-9888-e24d37b19733",
   "metadata": {},
   "outputs": [
    {
     "data": {
      "text/plain": [
       "[{1: 'Jean Castro',\n",
       "  2: 'Lula Powell',\n",
       "  3: 'Brian Howell',\n",
       "  4: 'Lynne Foster',\n",
       "  5: 'Zachary Simon'}]"
      ]
     },
     "execution_count": 2,
     "metadata": {},
     "output_type": "execute_result"
    }
   ],
   "source": [
    "a={1: ['Jean Castro'], 2: ['Lula Powell'], 3: ['Brian Howell'], 4: ['Lynne Foster'], 5: ['Zachary Simon']}\n",
    "b=[]\n",
    "for i,j in a.items():\n",
    "    b.append((i,j[0]))\n",
    "b\n",
    "c=[dict(b)]\n",
    "c"
   ]
  },
  {
   "cell_type": "code",
   "execution_count": null,
   "id": "44421ec0-5419-40da-8c5f-95334531ec48",
   "metadata": {},
   "outputs": [],
   "source": []
  },
  {
   "cell_type": "code",
   "execution_count": null,
   "id": "2edf7a62-6b5b-44da-b7da-0e0e0f5bbece",
   "metadata": {},
   "outputs": [],
   "source": []
  },
  {
   "cell_type": "code",
   "execution_count": null,
   "id": "e42084fd-b0db-4803-9791-2b4657dc95b6",
   "metadata": {},
   "outputs": [],
   "source": []
  },
  {
   "cell_type": "code",
   "execution_count": null,
   "id": "77f398ab-9ad2-4551-8e51-50482fb5ec8f",
   "metadata": {},
   "outputs": [],
   "source": [
    "65. Write a Python program to get the total length of all values in a given dictionary with string values.\n",
    "Original dictionary:\n",
    "{'#FF0000': 'Red', '#800000': 'Maroon', '#FFFF00': 'Yellow', '#808000': 'Olive'}\n",
    "Total length of all values of the said dictionary with string values:\n",
    "20"
   ]
  },
  {
   "cell_type": "code",
   "execution_count": 32,
   "id": "e81bc070-f68c-4153-b101-9b5c7d76f65b",
   "metadata": {},
   "outputs": [
    {
     "data": {
      "text/plain": [
       "20"
      ]
     },
     "execution_count": 32,
     "metadata": {},
     "output_type": "execute_result"
    }
   ],
   "source": [
    "a={'#FF0000': 'Red', '#800000': 'Maroon', '#FFFF00': 'Yellow', '#808000': 'Olive'}\n",
    "b=list(a.values())\n",
    "summ=0\n",
    "for i in b:\n",
    "    summ+=len(i)\n",
    "summ"
   ]
  },
  {
   "cell_type": "code",
   "execution_count": null,
   "id": "3433c20d-29ad-4d8a-a067-ad291e99f942",
   "metadata": {},
   "outputs": [],
   "source": [
    "66. Write a Python program to check if a specific key and a value exist in a dictionary.\n",
    "Original dictionary:\n",
    "[{'student_id': 1, 'name': 'Jean Castro', 'class': 'V'}, {'student_id': 2, 'name': 'Lula Powell', 'class': 'V'}, {'student_id': 3, 'name': 'Brian Howell', 'class': 'VI'}, {'student_id': 4, 'name': 'Lynne Foster', 'class': 'VI'}, {'student_id': 5, 'name': 'Zachary Simon', 'class': 'VII'}]\n",
    "Check if a specific Key and a value exist in the said dictionary:\n",
    "True\n",
    "True\n",
    "True\n",
    "False\n",
    "False"
   ]
  },
  {
   "cell_type": "code",
   "execution_count": 31,
   "id": "1790ed61-79c0-4d61-934c-588dccbde468",
   "metadata": {},
   "outputs": [
    {
     "name": "stdout",
     "output_type": "stream",
     "text": [
      "False\n"
     ]
    }
   ],
   "source": [
    "a=[{'student_id': 1, 'name': 'Jean Castro', 'class': 'V'}, {'student_id': 2, 'name': 'Lula Powell', 'class': 'V'}, {'student_id': 3, 'name': 'Brian Howell', 'class': 'VI'}, {'student_id': 4, 'name': 'Lynne Foster', 'class': 'VI'},\n",
    "   {'student_id': 5, 'name': 'Zachary Simon', 'class': 'VII'}]\n",
    "b='student_id'\n",
    "c=11\n",
    "flag=0\n",
    "for i in a:\n",
    "    for j,k in i.items():\n",
    "        if j==b and k==c:\n",
    "            flag=1\n",
    "            break\n",
    "\n",
    "if flag==0:\n",
    "    print(\"False\")\n",
    "else:\n",
    "    print(\"True\")\n"
   ]
  },
  {
   "cell_type": "code",
   "execution_count": null,
   "id": "c3fb7fbb-e687-48c2-8535-c610c8cc4293",
   "metadata": {},
   "outputs": [],
   "source": []
  },
  {
   "cell_type": "code",
   "execution_count": null,
   "id": "4a505e7b-43a2-48e2-a176-ebf2709f25ee",
   "metadata": {},
   "outputs": [],
   "source": [
    "67. Write a Python program to invert a given dictionary with non-unique hashable values.\n",
    "Sample Output:\n",
    "{8: ['Ora Mckinney', 'Mathew Gilbert'], 7: ['Theodore Hollandl', 'Mae Fleming', 'Ivan Little']}"
   ]
  },
  {
   "cell_type": "code",
   "execution_count": 29,
   "id": "4cf1ce02-c362-46ab-84e4-c5d5b02cc0e7",
   "metadata": {},
   "outputs": [
    {
     "data": {
      "text/plain": [
       "{7: ['Theodore Hollandl', 'Mae Fleming', 'Ivan Little'],\n",
       " 8: ['Ora Mckinney', 'Mathew Gilbert']}"
      ]
     },
     "execution_count": 29,
     "metadata": {},
     "output_type": "execute_result"
    }
   ],
   "source": [
    "students = {\n",
    "  'Ora Mckinney': 8,\n",
    "  'Theodore Hollandl': 7,\n",
    "  'Mae Fleming': 7,\n",
    "  'Mathew Gilbert': 8,\n",
    "  'Ivan Little': 7,\n",
    "}\n",
    "a=list(students.keys())\n",
    "b=list(students.values())\n",
    "c=sorted(set(b))\n",
    "x={}\n",
    "d=[]\n",
    "for i in c:\n",
    "    e=[]\n",
    "    for j,k in students.items():\n",
    "        if i==k:\n",
    "            e.append(j)\n",
    "    d.append(e)\n",
    "for i,j in zip(c,d):\n",
    "    x[i]=j\n",
    "x"
   ]
  },
  {
   "cell_type": "code",
   "execution_count": null,
   "id": "9fbda282-1d84-4acb-ae82-d0d15892e04a",
   "metadata": {},
   "outputs": [],
   "source": [
    "68. Write a Python program to combine two or more dictionaries, creating a list of values for each key.\n",
    "Sample Output:\n",
    "Original dictionaries:\n",
    "{'w': 50, 'x': 100, 'y': 'Green', 'z': 400}\n",
    "{'x': 300, 'y': 'Red', 'z': 600}\n",
    "Combined dictionaries, creating a list of values for each key:\n",
    "{'w': [50], 'x': [100, 300], 'y': ['Green', 'Red'], 'z': [400, 600]}"
   ]
  },
  {
   "cell_type": "code",
   "execution_count": 26,
   "id": "a20b0892-c664-469a-9a5c-9ccb08865974",
   "metadata": {},
   "outputs": [
    {
     "data": {
      "text/plain": [
       "{'w': [50], 'x': [100, 300], 'y': ['Green', 'Red'], 'z': [400, 600]}"
      ]
     },
     "execution_count": 26,
     "metadata": {},
     "output_type": "execute_result"
    }
   ],
   "source": [
    "a={'w': 50, 'x': 100, 'y': 'Green', 'z': 400}\n",
    "b={'x': 300, 'y': 'Red', 'z': 600}\n",
    "c={}\n",
    "for i,j in a.items():\n",
    "    c[i]=[j]\n",
    "for i,k in c.items():\n",
    "    for j in b.keys():\n",
    "        if i==j:\n",
    "            c[i].append(b[j])\n",
    "c\n",
    "            "
   ]
  },
  {
   "cell_type": "code",
   "execution_count": null,
   "id": "46535c92-1693-4e9b-a946-8330244ca374",
   "metadata": {},
   "outputs": [],
   "source": []
  },
  {
   "cell_type": "code",
   "execution_count": null,
   "id": "8ad85e21-2cff-4650-bebe-b7382db78205",
   "metadata": {},
   "outputs": [],
   "source": []
  },
  {
   "cell_type": "code",
   "execution_count": null,
   "id": "956ee589-2a81-412a-bf3e-ccd01a35d287",
   "metadata": {},
   "outputs": [],
   "source": [
    "69. Write a Python program to group the elements of a given list based on the given function.\n",
    "Sample Output:\n",
    "Original list & function:\n",
    "[7, 23, 3.2, 3.3, 8.4] Function name: floor:\n",
    "Group the elements of the said list based on the given function:\n",
    "{7: [7], 23: [23], 3: [3.2, 3.3], 8: [8.4]}\n",
    "Original list & function:\n",
    "['Red', 'Green', 'Black', 'White', 'Pink'] Function name: len:\n",
    "Group the elements of the said list based on the given function:\n",
    "{3: ['Red'], 5: ['Green', 'Black', 'White'], 4: ['Pink']}"
   ]
  },
  {
   "cell_type": "code",
   "execution_count": 24,
   "id": "b7aef6ea-7ee5-4646-873e-457a063fa8e7",
   "metadata": {},
   "outputs": [
    {
     "name": "stdin",
     "output_type": "stream",
     "text": [
      " floor\n"
     ]
    },
    {
     "name": "stdout",
     "output_type": "stream",
     "text": [
      "[7, 23, 3, 3, 8]\n",
      "[[7], [23], [3.2, 3.3], [3.2, 3.3], [8.4]]\n"
     ]
    }
   ],
   "source": [
    "import math\n",
    "a=[7, 23, 3.2, 3.3, 8.4]\n",
    "b=input()\n",
    "if b==\"floor\":\n",
    "    c=a\n",
    "    d=[]\n",
    "    for i in c:\n",
    "        d.append(math.floor(i))\n",
    "    print(d)\n",
    "    e=[]\n",
    "    for i in range(len(d)):\n",
    "        x=[]\n",
    "        for j in range(len(a)):\n",
    "            if a[j]>=d[i] and a[j]<d[i]+1:\n",
    "                x.append(a[j])\n",
    "        e.append(x)\n",
    "    print(e)"
   ]
  },
  {
   "cell_type": "code",
   "execution_count": null,
   "id": "1f293598-ff49-42ea-952a-e2d5e6c5cf47",
   "metadata": {},
   "outputs": [],
   "source": []
  },
  {
   "cell_type": "code",
   "execution_count": null,
   "id": "cbe5a25f-a8c2-4835-82e6-9f221f49bda1",
   "metadata": {},
   "outputs": [],
   "source": [
    "70. Write a Python program to map the values of a given list to a dictionary using a function, where the key-value pairs consist of the original value as the key and the result of the function as the value.\n",
    "Sample Output:\n",
    "{1: 1, 2: 4, 3: 9, 4: 16}"
   ]
  },
  {
   "cell_type": "code",
   "execution_count": 18,
   "id": "93af0c9c-1d5c-43e6-a09f-88d1239d1877",
   "metadata": {},
   "outputs": [
    {
     "data": {
      "text/plain": [
       "{1: 1, 2: 4, 3: 9, 4: 16}"
      ]
     },
     "execution_count": 18,
     "metadata": {},
     "output_type": "execute_result"
    }
   ],
   "source": [
    "a=[1,2,3,4]\n",
    "b=[]\n",
    "for i in a:\n",
    "    b.append(i*i)\n",
    "b\n",
    "c={}\n",
    "for i,j in zip(a,b):\n",
    "    c[i]=j\n",
    "c\n",
    "    "
   ]
  },
  {
   "cell_type": "code",
   "execution_count": null,
   "id": "cb2c2db8-1e8b-4b66-9ee2-677cb192850c",
   "metadata": {},
   "outputs": [],
   "source": [
    "71. Write a Python program to retrieve the value of the nested key indicated by the given selector list from a dictionary or list.\n",
    "Sample Output:\n",
    "Russell"
   ]
  },
  {
   "cell_type": "code",
   "execution_count": 16,
   "id": "aad6cf5e-d957-4197-93c5-9d8848e81dab",
   "metadata": {},
   "outputs": [
    {
     "ename": "TypeError",
     "evalue": "list indices must be integers or slices, not str",
     "output_type": "error",
     "traceback": [
      "\u001b[1;31m---------------------------------------------------------------------------\u001b[0m",
      "\u001b[1;31mTypeError\u001b[0m                                 Traceback (most recent call last)",
      "Cell \u001b[1;32mIn[16], line 11\u001b[0m\n\u001b[0;32m      1\u001b[0m users \u001b[38;5;241m=\u001b[39m {\n\u001b[0;32m      2\u001b[0m     \u001b[38;5;124m'\u001b[39m\u001b[38;5;124mCarla \u001b[39m\u001b[38;5;124m'\u001b[39m: {\n\u001b[0;32m      3\u001b[0m         \u001b[38;5;124m'\u001b[39m\u001b[38;5;124mname\u001b[39m\u001b[38;5;124m'\u001b[39m: {\n\u001b[1;32m   (...)\u001b[0m\n\u001b[0;32m      8\u001b[0m     }\n\u001b[0;32m      9\u001b[0m }\n\u001b[0;32m     10\u001b[0m a\u001b[38;5;241m=\u001b[39m[\u001b[38;5;124m'\u001b[39m\u001b[38;5;124mCarla \u001b[39m\u001b[38;5;124m'\u001b[39m, \u001b[38;5;124m'\u001b[39m\u001b[38;5;124mname\u001b[39m\u001b[38;5;124m'\u001b[39m, \u001b[38;5;124m'\u001b[39m\u001b[38;5;124mlast\u001b[39m\u001b[38;5;124m'\u001b[39m]\n\u001b[1;32m---> 11\u001b[0m \u001b[38;5;28mprint\u001b[39m(\u001b[43ma\u001b[49m\u001b[43m[\u001b[49m\u001b[43ma\u001b[49m\u001b[43m[\u001b[49m\u001b[38;5;241;43m0\u001b[39;49m\u001b[43m]\u001b[49m\u001b[43m]\u001b[49m[a[\u001b[38;5;241m1\u001b[39m]][a[\u001b[38;5;241m2\u001b[39m]])\n",
      "\u001b[1;31mTypeError\u001b[0m: list indices must be integers or slices, not str"
     ]
    }
   ],
   "source": [
    "users = {\n",
    "    'Carla ': {\n",
    "        'name': {\n",
    "            'first': 'Carla ',\n",
    "            'last': 'Russell'\n",
    "        },\n",
    "        'postIds': [1, 2, 3, 4, 5]\n",
    "    }\n",
    "}\n",
    "a=['Carla ', 'name', 'last']\n"
   ]
  },
  {
   "cell_type": "code",
   "execution_count": null,
   "id": "1a0d98df-5c0c-4e03-a36a-4e37f25681ab",
   "metadata": {},
   "outputs": [],
   "source": [
    "72. Write a Python program to invert a dictionary with unique hashable values.\n",
    "Sample Output:\n",
    "{10: 'Theodore', 11: 'Mathew', 9: 'Roxanne'}"
   ]
  },
  {
   "cell_type": "code",
   "execution_count": 14,
   "id": "11aa2b32-d42b-4cd8-ae63-85353320cd28",
   "metadata": {},
   "outputs": [
    {
     "name": "stdout",
     "output_type": "stream",
     "text": [
      "{10: 'Theodore', 11: 'Mathew', 9: 'Roxanne'}\n",
      "{10: 'Theodore', 11: 'Mathew', 9: 'Roxanne'}\n"
     ]
    }
   ],
   "source": [
    "students = {\n",
    "    'Theodore': 10,\n",
    "    'Mathew': 11,\n",
    "    'Roxanne': 9,\n",
    "}\n",
    "b=list(students.keys())\n",
    "c=list(students.values())\n",
    "d={}\n",
    "for i,j in zip(b,c):\n",
    "    d[j]=i\n",
    "print(d)\n",
    "x={j:i for i,j in students.items() }\n",
    "print(x)"
   ]
  },
  {
   "cell_type": "code",
   "execution_count": null,
   "id": "82d57353-af0b-47f7-bace-87487c117e3a",
   "metadata": {},
   "outputs": [],
   "source": [
    "73. Write a Python program to convert a list of dictionaries into a list of values corresponding to the specified key.\n",
    "Sample Output:\n",
    "Original list of dictionaries:\n",
    "[{'name': 'Theodore', 'age': 18}, {'name': 'Mathew', 'age': 22}, {'name': 'Roxanne', 'age': 20}, {'name': 'David', 'age': 18}]\n",
    "Convert a list of dictionaries into a list of values corresponding to the specified key:\n",
    "[18, 22, 20, 18]"
   ]
  },
  {
   "cell_type": "code",
   "execution_count": 11,
   "id": "03ff2c92-ab75-4c58-99a2-8f6a89d647fb",
   "metadata": {},
   "outputs": [
    {
     "data": {
      "text/plain": [
       "[18, 22, 20, 18]"
      ]
     },
     "execution_count": 11,
     "metadata": {},
     "output_type": "execute_result"
    }
   ],
   "source": [
    "a=[{'name': 'Theodore', 'age': 18}, {'name': 'Mathew', 'age': 22}, {'name': 'Roxanne', 'age': 20}, {'name': 'David', 'age': 18}]\n",
    "b=[]\n",
    "for i in a:\n",
    "    for j in i:\n",
    "        if type(i[j]) is int:\n",
    "            b.append(i[j])\n",
    "b"
   ]
  },
  {
   "cell_type": "code",
   "execution_count": null,
   "id": "7adec540-690f-42bb-953d-6ccbac828c44",
   "metadata": {},
   "outputs": [],
   "source": []
  },
  {
   "cell_type": "code",
   "execution_count": null,
   "id": "c7566171-0147-4407-8e6d-dac430fbbc7d",
   "metadata": {},
   "outputs": [],
   "source": [
    "75. Write a Python program to find all keys in a dictionary that have the given value.\n",
    "Sample Output:\n",
    "Original dictionary elements:\n",
    "{'Theodore': 19, 'Roxanne': 20, 'Mathew': 21, 'Betty': 20}\n",
    "Find all keys in the said dictionary that have the specified value:\n",
    "['Roxanne', 'Betty']"
   ]
  },
  {
   "cell_type": "code",
   "execution_count": 10,
   "id": "f8bcc735-ab52-4d9d-99c8-d2e24cf43508",
   "metadata": {},
   "outputs": [
    {
     "data": {
      "text/plain": [
       "['Roxanne', 'Betty']"
      ]
     },
     "execution_count": 10,
     "metadata": {},
     "output_type": "execute_result"
    }
   ],
   "source": [
    "a={'Theodore': 19, 'Roxanne': 20, 'Mathew': 21, 'Betty': 20}\n",
    "b=20\n",
    "c=[]\n",
    "for i,j in a.items():\n",
    "    if j==b:\n",
    "        c.append(i)\n",
    "c"
   ]
  },
  {
   "cell_type": "code",
   "execution_count": null,
   "id": "bc3a5144-2a28-4b92-be11-dc22ff2528ee",
   "metadata": {},
   "outputs": [],
   "source": [
    "76. Write a Python program to combine two lists into a dictionary. The elements of the first one serve as keys and the elements of the second one serve as values. Each item in the first list must be unique and hashable.\n",
    "Sample Output:\n",
    "Original lists:\n",
    "['a', 'b', 'c', 'd', 'e', 'f']\n",
    "[1, 2, 3, 4, 5]\n",
    "Combine the values of the said two lists into a dictionary:\n",
    "{'a': 1, 'b': 2, 'c': 3, 'd': 4, 'e': 5}"
   ]
  },
  {
   "cell_type": "code",
   "execution_count": 9,
   "id": "a964462f-33e2-496a-8973-905211b713ea",
   "metadata": {},
   "outputs": [
    {
     "data": {
      "text/plain": [
       "{'a': 1, 'b': 2, 'c': 3, 'd': 4, 'e': 5}"
      ]
     },
     "execution_count": 9,
     "metadata": {},
     "output_type": "execute_result"
    }
   ],
   "source": [
    "a=['a', 'b', 'c', 'd', 'e', 'f']\n",
    "b=[1, 2, 3, 4, 5]\n",
    "c={}\n",
    "for i,j in zip(a,b):\n",
    "    c[i]=j\n",
    "c"
   ]
  },
  {
   "cell_type": "code",
   "execution_count": null,
   "id": "9b67f442-983f-4589-b9f1-f975eee1684a",
   "metadata": {},
   "outputs": [],
   "source": [
    "77. Write a Python program to transform a dictionary into a list of tuples.\n",
    "Sample Output:\n",
    "Original Dictionary:\n",
    "{'Red': 1, 'Green': 3, 'White': 5, 'Black': 2, 'Pink': 4}\n",
    "Convert the said dictionary to a list of tuples:\n",
    "[('Red', 1), ('Green', 3), ('White', 5), ('Black', 2), ('Pink', 4)]"
   ]
  },
  {
   "cell_type": "code",
   "execution_count": 7,
   "id": "e244c842-6127-475d-b6f1-606bc50e2736",
   "metadata": {},
   "outputs": [
    {
     "data": {
      "text/plain": [
       "[('Red', 1), ('Green', 3), ('White', 5), ('Black', 2), ('Pink', 4)]"
      ]
     },
     "execution_count": 7,
     "metadata": {},
     "output_type": "execute_result"
    }
   ],
   "source": [
    "a={'Red': 1, 'Green': 3, 'White': 5, 'Black': 2, 'Pink': 4}\n",
    "b=[]\n",
    "for i,j in a.items():\n",
    "    b.append((i,j))\n",
    "b"
   ]
  },
  {
   "cell_type": "code",
   "execution_count": null,
   "id": "e2b49cf8-f1c0-4b12-84a1-481a3b1ba33d",
   "metadata": {},
   "outputs": [],
   "source": [
    "78. Write a Python program to create a flat list of all the keys in a flat dictionary.\n",
    "Sample Output:\n",
    "Original dictionary elements:\n",
    "{'Theodore': 19, 'Roxanne': 20, 'Mathew': 21, 'Betty': 20}\n",
    "Create a flat list of all the keys of the said flat dictionary:\n",
    "['Theodore', 'Roxanne', 'Mathew', 'Betty']"
   ]
  },
  {
   "cell_type": "code",
   "execution_count": 5,
   "id": "603078d5-c4a7-4810-8fca-577ba79d67b4",
   "metadata": {},
   "outputs": [
    {
     "data": {
      "text/plain": [
       "['Theodore', 'Roxanne', 'Mathew', 'Betty']"
      ]
     },
     "execution_count": 5,
     "metadata": {},
     "output_type": "execute_result"
    }
   ],
   "source": [
    "a={'Theodore': 19, 'Roxanne': 20, 'Mathew': 21, 'Betty': 20}\n",
    "b=list(a.keys())\n",
    "c=list(a.values())\n",
    "b"
   ]
  },
  {
   "cell_type": "code",
   "execution_count": null,
   "id": "3970e857-679d-48b2-879b-e897ac4d1fdb",
   "metadata": {},
   "outputs": [],
   "source": [
    "79. Write a Python program to create a flat list of all the values in a flat dictionary.\n",
    "Sample Output:\n",
    "Original dictionary elements:\n",
    "{'Theodore': 19, 'Roxanne': 20, 'Mathew': 21, 'Betty': 20}\n",
    "Create a flat list of all the values of the said flat dictionary:\n",
    "[19, 20, 21, 20]"
   ]
  },
  {
   "cell_type": "code",
   "execution_count": 4,
   "id": "73e0e03b-4b1f-430f-8f08-f372cc9be3b6",
   "metadata": {},
   "outputs": [
    {
     "data": {
      "text/plain": [
       "[19, 22, 21, 20]"
      ]
     },
     "execution_count": 4,
     "metadata": {},
     "output_type": "execute_result"
    }
   ],
   "source": [
    "a={'Theodore': 19, 'Roxanne': 20, 'Mathew': 21, 'Betty': 20}\n",
    "b=list(a.keys())\n",
    "c=list(a.values())\n",
    "c"
   ]
  },
  {
   "cell_type": "code",
   "execution_count": null,
   "id": "9e86b7c7-622e-488b-8607-a73684ac54a0",
   "metadata": {},
   "outputs": [],
   "source": []
  },
  {
   "cell_type": "code",
   "execution_count": null,
   "id": "cc9f72c5-4acd-400e-8bd9-b7708720185f",
   "metadata": {},
   "outputs": [],
   "source": [
    "80. Write a Python program to find the key of the maximum value in a dictionary.\n",
    "Sample Output:\n",
    "Original dictionary elements:\n",
    "{'Theodore': 19, 'Roxanne': 22, 'Mathew': 21, 'Betty': 20}\n",
    "Finds the key of the maximum and minimum value of the said dictionary:\n",
    "('Roxanne', 'Theodore')"
   ]
  },
  {
   "cell_type": "code",
   "execution_count": 3,
   "id": "4bc182a0-a59e-45d2-ac10-a0471f664a0b",
   "metadata": {},
   "outputs": [
    {
     "name": "stdout",
     "output_type": "stream",
     "text": [
      "Theodore\n",
      "Roxanne\n"
     ]
    }
   ],
   "source": [
    "a={'Theodore': 19, 'Roxanne': 22, 'Mathew': 21, 'Betty': 20}\n",
    "b=list(a.keys())\n",
    "c=list(a.values())\n",
    "c1=sorted(c)\n",
    "d=c1[0]\n",
    "e=c1[-1]\n",
    "for i,j in a.items():\n",
    "    if j==d or j==e:\n",
    "        print(i)\n",
    "        "
   ]
  },
  {
   "cell_type": "code",
   "execution_count": null,
   "id": "17004189-c4c3-4af3-8bb2-995c5055ccd4",
   "metadata": {},
   "outputs": [],
   "source": []
  }
 ],
 "metadata": {
  "kernelspec": {
   "display_name": "Python 3 (ipykernel)",
   "language": "python",
   "name": "python3"
  },
  "language_info": {
   "codemirror_mode": {
    "name": "ipython",
    "version": 3
   },
   "file_extension": ".py",
   "mimetype": "text/x-python",
   "name": "python",
   "nbconvert_exporter": "python",
   "pygments_lexer": "ipython3",
   "version": "3.11.5"
  }
 },
 "nbformat": 4,
 "nbformat_minor": 5
}
